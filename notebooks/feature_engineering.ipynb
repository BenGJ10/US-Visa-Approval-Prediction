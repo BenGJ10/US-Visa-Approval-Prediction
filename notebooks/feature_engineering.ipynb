{
 "cells": [
  {
   "cell_type": "markdown",
   "id": "224908d8",
   "metadata": {},
   "source": [
    "## Complete Feature Engineering and Model Training"
   ]
  },
  {
   "cell_type": "markdown",
   "id": "d47ac64f",
   "metadata": {},
   "source": [
    "### **Data Preprocessing**"
   ]
  },
  {
   "cell_type": "code",
   "execution_count": 1,
   "id": "d25142bb",
   "metadata": {},
   "outputs": [],
   "source": [
    "# Importing required libraries\n",
    "\n",
    "import numpy as np\n",
    "import pandas as pd\n",
    "import matplotlib.pyplot as plt\n",
    "import seaborn as sns\n",
    "\n",
    "import warnings\n",
    "warnings.filterwarnings(\"ignore\")"
   ]
  },
  {
   "cell_type": "code",
   "execution_count": 2,
   "id": "7b88e1bb",
   "metadata": {},
   "outputs": [
    {
     "data": {
      "text/html": [
       "<div>\n",
       "<style scoped>\n",
       "    .dataframe tbody tr th:only-of-type {\n",
       "        vertical-align: middle;\n",
       "    }\n",
       "\n",
       "    .dataframe tbody tr th {\n",
       "        vertical-align: top;\n",
       "    }\n",
       "\n",
       "    .dataframe thead th {\n",
       "        text-align: right;\n",
       "    }\n",
       "</style>\n",
       "<table border=\"1\" class=\"dataframe\">\n",
       "  <thead>\n",
       "    <tr style=\"text-align: right;\">\n",
       "      <th></th>\n",
       "      <th>case_id</th>\n",
       "      <th>continent</th>\n",
       "      <th>education_of_employee</th>\n",
       "      <th>has_job_experience</th>\n",
       "      <th>requires_job_training</th>\n",
       "      <th>no_of_employees</th>\n",
       "      <th>yr_of_estab</th>\n",
       "      <th>region_of_employment</th>\n",
       "      <th>prevailing_wage</th>\n",
       "      <th>unit_of_wage</th>\n",
       "      <th>full_time_position</th>\n",
       "      <th>case_status</th>\n",
       "    </tr>\n",
       "  </thead>\n",
       "  <tbody>\n",
       "    <tr>\n",
       "      <th>0</th>\n",
       "      <td>EZYV01</td>\n",
       "      <td>Asia</td>\n",
       "      <td>High School</td>\n",
       "      <td>N</td>\n",
       "      <td>N</td>\n",
       "      <td>14513</td>\n",
       "      <td>2007</td>\n",
       "      <td>West</td>\n",
       "      <td>592.2029</td>\n",
       "      <td>Hour</td>\n",
       "      <td>Y</td>\n",
       "      <td>Denied</td>\n",
       "    </tr>\n",
       "    <tr>\n",
       "      <th>1</th>\n",
       "      <td>EZYV02</td>\n",
       "      <td>Asia</td>\n",
       "      <td>Master's</td>\n",
       "      <td>Y</td>\n",
       "      <td>N</td>\n",
       "      <td>2412</td>\n",
       "      <td>2002</td>\n",
       "      <td>Northeast</td>\n",
       "      <td>83425.6500</td>\n",
       "      <td>Year</td>\n",
       "      <td>Y</td>\n",
       "      <td>Certified</td>\n",
       "    </tr>\n",
       "    <tr>\n",
       "      <th>2</th>\n",
       "      <td>EZYV03</td>\n",
       "      <td>Asia</td>\n",
       "      <td>Bachelor's</td>\n",
       "      <td>N</td>\n",
       "      <td>Y</td>\n",
       "      <td>44444</td>\n",
       "      <td>2008</td>\n",
       "      <td>West</td>\n",
       "      <td>122996.8600</td>\n",
       "      <td>Year</td>\n",
       "      <td>Y</td>\n",
       "      <td>Denied</td>\n",
       "    </tr>\n",
       "    <tr>\n",
       "      <th>3</th>\n",
       "      <td>EZYV04</td>\n",
       "      <td>Asia</td>\n",
       "      <td>Bachelor's</td>\n",
       "      <td>N</td>\n",
       "      <td>N</td>\n",
       "      <td>98</td>\n",
       "      <td>1897</td>\n",
       "      <td>West</td>\n",
       "      <td>83434.0300</td>\n",
       "      <td>Year</td>\n",
       "      <td>Y</td>\n",
       "      <td>Denied</td>\n",
       "    </tr>\n",
       "    <tr>\n",
       "      <th>4</th>\n",
       "      <td>EZYV05</td>\n",
       "      <td>Africa</td>\n",
       "      <td>Master's</td>\n",
       "      <td>Y</td>\n",
       "      <td>N</td>\n",
       "      <td>1082</td>\n",
       "      <td>2005</td>\n",
       "      <td>South</td>\n",
       "      <td>149907.3900</td>\n",
       "      <td>Year</td>\n",
       "      <td>Y</td>\n",
       "      <td>Certified</td>\n",
       "    </tr>\n",
       "  </tbody>\n",
       "</table>\n",
       "</div>"
      ],
      "text/plain": [
       "  case_id continent education_of_employee has_job_experience  \\\n",
       "0  EZYV01      Asia           High School                  N   \n",
       "1  EZYV02      Asia              Master's                  Y   \n",
       "2  EZYV03      Asia            Bachelor's                  N   \n",
       "3  EZYV04      Asia            Bachelor's                  N   \n",
       "4  EZYV05    Africa              Master's                  Y   \n",
       "\n",
       "  requires_job_training  no_of_employees  yr_of_estab region_of_employment  \\\n",
       "0                     N            14513         2007                 West   \n",
       "1                     N             2412         2002            Northeast   \n",
       "2                     Y            44444         2008                 West   \n",
       "3                     N               98         1897                 West   \n",
       "4                     N             1082         2005                South   \n",
       "\n",
       "   prevailing_wage unit_of_wage full_time_position case_status  \n",
       "0         592.2029         Hour                  Y      Denied  \n",
       "1       83425.6500         Year                  Y   Certified  \n",
       "2      122996.8600         Year                  Y      Denied  \n",
       "3       83434.0300         Year                  Y      Denied  \n",
       "4      149907.3900         Year                  Y   Certified  "
      ]
     },
     "execution_count": 2,
     "metadata": {},
     "output_type": "execute_result"
    }
   ],
   "source": [
    "df = pd.read_csv('dataset/Visa.csv')\n",
    "df.head()"
   ]
  },
  {
   "cell_type": "code",
   "execution_count": 3,
   "id": "25af61b6",
   "metadata": {},
   "outputs": [
    {
     "data": {
      "text/plain": [
       "(25480, 12)"
      ]
     },
     "execution_count": 3,
     "metadata": {},
     "output_type": "execute_result"
    }
   ],
   "source": [
    "df.shape"
   ]
  },
  {
   "cell_type": "code",
   "execution_count": 4,
   "id": "64627786",
   "metadata": {},
   "outputs": [
    {
     "data": {
      "text/plain": [
       "case_id                  0\n",
       "continent                0\n",
       "education_of_employee    0\n",
       "has_job_experience       0\n",
       "requires_job_training    0\n",
       "no_of_employees          0\n",
       "yr_of_estab              0\n",
       "region_of_employment     0\n",
       "prevailing_wage          0\n",
       "unit_of_wage             0\n",
       "full_time_position       0\n",
       "case_status              0\n",
       "dtype: int64"
      ]
     },
     "execution_count": 4,
     "metadata": {},
     "output_type": "execute_result"
    }
   ],
   "source": [
    "# Checking for null values\n",
    "\n",
    "df.isnull().sum()"
   ]
  },
  {
   "cell_type": "code",
   "execution_count": 5,
   "id": "f3835fe3",
   "metadata": {},
   "outputs": [
    {
     "data": {
      "text/plain": [
       "0"
      ]
     },
     "execution_count": 5,
     "metadata": {},
     "output_type": "execute_result"
    }
   ],
   "source": [
    "# Checking for duplicates\n",
    "\n",
    "df.duplicated().sum()"
   ]
  },
  {
   "cell_type": "code",
   "execution_count": 6,
   "id": "ee0127b4",
   "metadata": {},
   "outputs": [],
   "source": [
    "# Removing case_id column as it is not required for Model Training\n",
    "\n",
    "df.drop('case_id', inplace = True, axis = 1)"
   ]
  },
  {
   "cell_type": "markdown",
   "id": "7ac8f961",
   "metadata": {},
   "source": [
    "### **Feature Engineering**"
   ]
  },
  {
   "cell_type": "markdown",
   "id": "0a0c2de3",
   "metadata": {},
   "source": [
    "#### Feature Extraction"
   ]
  },
  {
   "cell_type": "code",
   "execution_count": 7,
   "id": "f211e9b9",
   "metadata": {},
   "outputs": [
    {
     "data": {
      "text/html": [
       "<div>\n",
       "<style scoped>\n",
       "    .dataframe tbody tr th:only-of-type {\n",
       "        vertical-align: middle;\n",
       "    }\n",
       "\n",
       "    .dataframe tbody tr th {\n",
       "        vertical-align: top;\n",
       "    }\n",
       "\n",
       "    .dataframe thead th {\n",
       "        text-align: right;\n",
       "    }\n",
       "</style>\n",
       "<table border=\"1\" class=\"dataframe\">\n",
       "  <thead>\n",
       "    <tr style=\"text-align: right;\">\n",
       "      <th></th>\n",
       "      <th>continent</th>\n",
       "      <th>education_of_employee</th>\n",
       "      <th>has_job_experience</th>\n",
       "      <th>requires_job_training</th>\n",
       "      <th>no_of_employees</th>\n",
       "      <th>yr_of_estab</th>\n",
       "      <th>region_of_employment</th>\n",
       "      <th>prevailing_wage</th>\n",
       "      <th>unit_of_wage</th>\n",
       "      <th>full_time_position</th>\n",
       "      <th>case_status</th>\n",
       "    </tr>\n",
       "  </thead>\n",
       "  <tbody>\n",
       "    <tr>\n",
       "      <th>0</th>\n",
       "      <td>Asia</td>\n",
       "      <td>High School</td>\n",
       "      <td>N</td>\n",
       "      <td>N</td>\n",
       "      <td>14513</td>\n",
       "      <td>2007</td>\n",
       "      <td>West</td>\n",
       "      <td>592.2029</td>\n",
       "      <td>Hour</td>\n",
       "      <td>Y</td>\n",
       "      <td>Denied</td>\n",
       "    </tr>\n",
       "    <tr>\n",
       "      <th>1</th>\n",
       "      <td>Asia</td>\n",
       "      <td>Master's</td>\n",
       "      <td>Y</td>\n",
       "      <td>N</td>\n",
       "      <td>2412</td>\n",
       "      <td>2002</td>\n",
       "      <td>Northeast</td>\n",
       "      <td>83425.6500</td>\n",
       "      <td>Year</td>\n",
       "      <td>Y</td>\n",
       "      <td>Certified</td>\n",
       "    </tr>\n",
       "    <tr>\n",
       "      <th>2</th>\n",
       "      <td>Asia</td>\n",
       "      <td>Bachelor's</td>\n",
       "      <td>N</td>\n",
       "      <td>Y</td>\n",
       "      <td>44444</td>\n",
       "      <td>2008</td>\n",
       "      <td>West</td>\n",
       "      <td>122996.8600</td>\n",
       "      <td>Year</td>\n",
       "      <td>Y</td>\n",
       "      <td>Denied</td>\n",
       "    </tr>\n",
       "  </tbody>\n",
       "</table>\n",
       "</div>"
      ],
      "text/plain": [
       "  continent education_of_employee has_job_experience requires_job_training  \\\n",
       "0      Asia           High School                  N                     N   \n",
       "1      Asia              Master's                  Y                     N   \n",
       "2      Asia            Bachelor's                  N                     Y   \n",
       "\n",
       "   no_of_employees  yr_of_estab region_of_employment  prevailing_wage  \\\n",
       "0            14513         2007                 West         592.2029   \n",
       "1             2412         2002            Northeast       83425.6500   \n",
       "2            44444         2008                 West      122996.8600   \n",
       "\n",
       "  unit_of_wage full_time_position case_status  \n",
       "0         Hour                  Y      Denied  \n",
       "1         Year                  Y   Certified  \n",
       "2         Year                  Y      Denied  "
      ]
     },
     "execution_count": 7,
     "metadata": {},
     "output_type": "execute_result"
    }
   ],
   "source": [
    "df.head(3)"
   ]
  },
  {
   "cell_type": "markdown",
   "id": "8f9ed85e",
   "metadata": {},
   "source": [
    "We will replace `year of establishment` with the `age of the company`, which is calculated as the difference between the current year and the year of establishment. This will help in understanding how long the company has been in operation, which can be a significant factor in visa approval."
   ]
  },
  {
   "cell_type": "code",
   "execution_count": 8,
   "id": "ff8a0cfc",
   "metadata": {},
   "outputs": [
    {
     "name": "stdout",
     "output_type": "stream",
     "text": [
      "2025\n"
     ]
    }
   ],
   "source": [
    "from datetime import date\n",
    "\n",
    "todays_date = date.today()\n",
    "current_year = todays_date.year\n",
    "\n",
    "print(current_year)"
   ]
  },
  {
   "cell_type": "code",
   "execution_count": 9,
   "id": "0de1bf4a",
   "metadata": {},
   "outputs": [],
   "source": [
    "# Subtract current year with year of estab to get company's age\n",
    "df['company_age'] = current_year - df['yr_of_estab']\n",
    "\n",
    "# Dropping the yr_or_estab column\n",
    "df.drop('yr_of_estab', inplace = True, axis = 1) "
   ]
  },
  {
   "cell_type": "code",
   "execution_count": 10,
   "id": "e3eedcb1",
   "metadata": {},
   "outputs": [
    {
     "data": {
      "text/html": [
       "<div>\n",
       "<style scoped>\n",
       "    .dataframe tbody tr th:only-of-type {\n",
       "        vertical-align: middle;\n",
       "    }\n",
       "\n",
       "    .dataframe tbody tr th {\n",
       "        vertical-align: top;\n",
       "    }\n",
       "\n",
       "    .dataframe thead th {\n",
       "        text-align: right;\n",
       "    }\n",
       "</style>\n",
       "<table border=\"1\" class=\"dataframe\">\n",
       "  <thead>\n",
       "    <tr style=\"text-align: right;\">\n",
       "      <th></th>\n",
       "      <th>continent</th>\n",
       "      <th>education_of_employee</th>\n",
       "      <th>has_job_experience</th>\n",
       "      <th>requires_job_training</th>\n",
       "      <th>no_of_employees</th>\n",
       "      <th>region_of_employment</th>\n",
       "      <th>prevailing_wage</th>\n",
       "      <th>unit_of_wage</th>\n",
       "      <th>full_time_position</th>\n",
       "      <th>case_status</th>\n",
       "      <th>company_age</th>\n",
       "    </tr>\n",
       "  </thead>\n",
       "  <tbody>\n",
       "    <tr>\n",
       "      <th>0</th>\n",
       "      <td>Asia</td>\n",
       "      <td>High School</td>\n",
       "      <td>N</td>\n",
       "      <td>N</td>\n",
       "      <td>14513</td>\n",
       "      <td>West</td>\n",
       "      <td>592.2029</td>\n",
       "      <td>Hour</td>\n",
       "      <td>Y</td>\n",
       "      <td>Denied</td>\n",
       "      <td>18</td>\n",
       "    </tr>\n",
       "    <tr>\n",
       "      <th>1</th>\n",
       "      <td>Asia</td>\n",
       "      <td>Master's</td>\n",
       "      <td>Y</td>\n",
       "      <td>N</td>\n",
       "      <td>2412</td>\n",
       "      <td>Northeast</td>\n",
       "      <td>83425.6500</td>\n",
       "      <td>Year</td>\n",
       "      <td>Y</td>\n",
       "      <td>Certified</td>\n",
       "      <td>23</td>\n",
       "    </tr>\n",
       "    <tr>\n",
       "      <th>2</th>\n",
       "      <td>Asia</td>\n",
       "      <td>Bachelor's</td>\n",
       "      <td>N</td>\n",
       "      <td>Y</td>\n",
       "      <td>44444</td>\n",
       "      <td>West</td>\n",
       "      <td>122996.8600</td>\n",
       "      <td>Year</td>\n",
       "      <td>Y</td>\n",
       "      <td>Denied</td>\n",
       "      <td>17</td>\n",
       "    </tr>\n",
       "    <tr>\n",
       "      <th>3</th>\n",
       "      <td>Asia</td>\n",
       "      <td>Bachelor's</td>\n",
       "      <td>N</td>\n",
       "      <td>N</td>\n",
       "      <td>98</td>\n",
       "      <td>West</td>\n",
       "      <td>83434.0300</td>\n",
       "      <td>Year</td>\n",
       "      <td>Y</td>\n",
       "      <td>Denied</td>\n",
       "      <td>128</td>\n",
       "    </tr>\n",
       "    <tr>\n",
       "      <th>4</th>\n",
       "      <td>Africa</td>\n",
       "      <td>Master's</td>\n",
       "      <td>Y</td>\n",
       "      <td>N</td>\n",
       "      <td>1082</td>\n",
       "      <td>South</td>\n",
       "      <td>149907.3900</td>\n",
       "      <td>Year</td>\n",
       "      <td>Y</td>\n",
       "      <td>Certified</td>\n",
       "      <td>20</td>\n",
       "    </tr>\n",
       "  </tbody>\n",
       "</table>\n",
       "</div>"
      ],
      "text/plain": [
       "  continent education_of_employee has_job_experience requires_job_training  \\\n",
       "0      Asia           High School                  N                     N   \n",
       "1      Asia              Master's                  Y                     N   \n",
       "2      Asia            Bachelor's                  N                     Y   \n",
       "3      Asia            Bachelor's                  N                     N   \n",
       "4    Africa              Master's                  Y                     N   \n",
       "\n",
       "   no_of_employees region_of_employment  prevailing_wage unit_of_wage  \\\n",
       "0            14513                 West         592.2029         Hour   \n",
       "1             2412            Northeast       83425.6500         Year   \n",
       "2            44444                 West      122996.8600         Year   \n",
       "3               98                 West       83434.0300         Year   \n",
       "4             1082                South      149907.3900         Year   \n",
       "\n",
       "  full_time_position case_status  company_age  \n",
       "0                  Y      Denied           18  \n",
       "1                  Y   Certified           23  \n",
       "2                  Y      Denied           17  \n",
       "3                  Y      Denied          128  \n",
       "4                  Y   Certified           20  "
      ]
     },
     "execution_count": 10,
     "metadata": {},
     "output_type": "execute_result"
    }
   ],
   "source": [
    "df.head()"
   ]
  },
  {
   "cell_type": "markdown",
   "id": "6ebcf8ea",
   "metadata": {},
   "source": [
    "#### Types of Features"
   ]
  },
  {
   "cell_type": "code",
   "execution_count": 11,
   "id": "db801649",
   "metadata": {},
   "outputs": [
    {
     "name": "stdout",
     "output_type": "stream",
     "text": [
      "Num of Numerical Features : 3\n",
      "Num of Categorical Features : 8\n",
      "Num of Discrete Features : 0\n",
      "Num of Continuous Features : 3\n"
     ]
    }
   ],
   "source": [
    "numerical_features = [feature for feature in df.columns if df[feature].dtype != 'O']\n",
    "print('Num of Numerical Features :', len(numerical_features))\n",
    "\n",
    "categorical_features = [feature for feature in df.columns if df[feature].dtype == 'O']\n",
    "print('Num of Categorical Features :', len(categorical_features))\n",
    "\n",
    "discrete_features=[feature for feature in numerical_features if len(df[feature].unique()) <= 25]\n",
    "print('Num of Discrete Features :',len(discrete_features))\n",
    "\n",
    "continuous_features = [feature for feature in numerical_features if feature not in discrete_features]\n",
    "print('Num of Continuous Features :',len(continuous_features))"
   ]
  },
  {
   "cell_type": "markdown",
   "id": "d5dcf13e",
   "metadata": {},
   "source": [
    "#### Dependent and Independent Features"
   ]
  },
  {
   "cell_type": "code",
   "execution_count": 12,
   "id": "1c637f10",
   "metadata": {},
   "outputs": [],
   "source": [
    "X = df.drop('case_status', axis = 1)\n",
    "Y = df['case_status']"
   ]
  },
  {
   "cell_type": "code",
   "execution_count": 13,
   "id": "c413e95e",
   "metadata": {},
   "outputs": [
    {
     "data": {
      "text/plain": [
       "0       Denied\n",
       "1    Certified\n",
       "2       Denied\n",
       "3       Denied\n",
       "4    Certified\n",
       "Name: case_status, dtype: object"
      ]
     },
     "execution_count": 13,
     "metadata": {},
     "output_type": "execute_result"
    }
   ],
   "source": [
    "Y.head()"
   ]
  },
  {
   "cell_type": "code",
   "execution_count": 14,
   "id": "c4a91eb3",
   "metadata": {},
   "outputs": [],
   "source": [
    "# Encoding the target column\n",
    "\n",
    "Y = np.where(Y == 'Denied', 0, 1)"
   ]
  },
  {
   "cell_type": "markdown",
   "id": "22d472a4",
   "metadata": {},
   "source": [
    "#### Feature Transformation"
   ]
  },
  {
   "cell_type": "code",
   "execution_count": 15,
   "id": "1425d0cd",
   "metadata": {},
   "outputs": [
    {
     "data": {
      "image/png": "[encoded data removed]",
      "text/plain": [
       "<Figure size 1200x600 with 3 Axes>"
      ]
     },
     "metadata": {},
     "output_type": "display_data"
    }
   ],
   "source": [
    "# Distribution of numerical data before scaling\n",
    "\n",
    "plt.figure(figsize = (12, 6))\n",
    "for i, col in enumerate(['no_of_employees', 'prevailing_wage', 'company_age']):\n",
    "    plt.subplot(2, 2, i+1)\n",
    "    sns.histplot(x=X[col], color = 'darkslateblue')\n",
    "    plt.xlabel(col)\n",
    "    plt.tight_layout()"
   ]
  },
  {
   "cell_type": "markdown",
   "id": "92a5e868",
   "metadata": {},
   "source": [
    "- No of employees and Copmany age column is skewed\n",
    "\n",
    "- Apply a power transformer featurewise to make data more Normally Distributed."
   ]
  },
  {
   "cell_type": "markdown",
   "id": "ff6c0102",
   "metadata": {},
   "source": [
    "`Power transforms` are a family of parametric, monotonic transformations that are applied to make data more Gaussian-like. This is useful for modeling issues related to heteroscedasticity (non-constant variance), or other situations where normality is desired.\n",
    "\n",
    "Currently, PowerTransformer supports the `Box-Cox transform` and the `Yeo-Johnson transform`."
   ]
  },
  {
   "cell_type": "markdown",
   "id": "ee90a880",
   "metadata": {},
   "source": [
    "**What is Skewness ?**\n",
    "\n",
    "`Skewness` refers to a distortion or asymmetry that deviates from the symmetrical bell curve, or normal distribution, in a set of data. If the curve is shifted to the left or to the right, it is said to be skewed. Skewness can be quantified as a representation of the extent to which a given distribution varies from a normal distribution. A normal distribution has a skew of zero"
   ]
  },
  {
   "cell_type": "code",
   "execution_count": 16,
   "id": "f5fb2706",
   "metadata": {},
   "outputs": [
    {
     "data": {
      "text/plain": [
       "no_of_employees    12.265260\n",
       "prevailing_wage     0.755776\n",
       "company_age         2.037301\n",
       "dtype: float64"
      ]
     },
     "execution_count": 16,
     "metadata": {},
     "output_type": "execute_result"
    }
   ],
   "source": [
    "# Checking skewness\n",
    "\n",
    "X[continuous_features].skew(axis = 0, skipna = True)"
   ]
  },
  {
   "cell_type": "markdown",
   "id": "4b341af2",
   "metadata": {},
   "source": [
    "Here company_age, no_of_employees are positively skewed, so we will apply a power transformer to these features."
   ]
  },
  {
   "cell_type": "markdown",
   "id": "183ded55",
   "metadata": {},
   "source": [
    "#### Applying Power Transformer to check if it can reduces the outliers\n"
   ]
  },
  {
   "cell_type": "code",
   "execution_count": 17,
   "id": "f1927f09",
   "metadata": {},
   "outputs": [],
   "source": [
    "from sklearn.preprocessing import PowerTransformer\n",
    "\n",
    "pt = PowerTransformer(method = 'yeo-johnson')\n",
    "transform_features = ['company_age', 'no_of_employees']\n",
    "\n",
    "X_copy = pt.fit_transform(X[transform_features])\n"
   ]
  },
  {
   "cell_type": "code",
   "execution_count": 18,
   "id": "11f3c36d",
   "metadata": {},
   "outputs": [],
   "source": [
    "X_copy = pd.DataFrame(X_copy, columns = transform_features)"
   ]
  },
  {
   "cell_type": "code",
   "execution_count": 19,
   "id": "8fe09241",
   "metadata": {},
   "outputs": [
    {
     "data": {
      "image/png": "[encoded data removed]",
      "text/plain": [
       "<Figure size 1200x500 with 2 Axes>"
      ]
     },
     "metadata": {},
     "output_type": "display_data"
    }
   ],
   "source": [
    "plt.figure(figsize = (12, 5))\n",
    "for i, col in enumerate(transform_features):\n",
    "    plt.subplot(1, 2, i+1)\n",
    "    sns.histplot(x = X_copy[col], color ='darkslateblue')\n",
    "    plt.xlabel(col)\n",
    "    plt.tight_layout()"
   ]
  },
  {
   "cell_type": "code",
   "execution_count": 20,
   "id": "269b7c4a",
   "metadata": {},
   "outputs": [
    {
     "data": {
      "text/plain": [
       "company_age        0.112260\n",
       "no_of_employees    0.399339\n",
       "dtype: float64"
      ]
     },
     "execution_count": 20,
     "metadata": {},
     "output_type": "execute_result"
    }
   ],
   "source": [
    "# Checking skewness\n",
    "\n",
    "X_copy.skew(axis = 0, skipna = True)"
   ]
  },
  {
   "cell_type": "markdown",
   "id": "af6348e9",
   "metadata": {},
   "source": [
    "- Here Yeo-Johnson is used and it supports both positive or negative data for transformation.\n",
    "\n",
    "- So Power Transformer with yeo-johnson can be used."
   ]
  },
  {
   "cell_type": "markdown",
   "id": "79fbc922",
   "metadata": {},
   "source": [
    "### **Feature Encoding and Feature Scaling**"
   ]
  },
  {
   "cell_type": "markdown",
   "id": "8f01a8ad",
   "metadata": {},
   "source": [
    "**One Hot Encoding for Columns which had lesser unique values and not ordinal**\n",
    "\n",
    "- One hot encoding is a process by which categorical variables are converted into a form that could be provided to ML algorithms to do a better job in prediction.\n",
    "\n",
    "**Ordinal Encoding for Columns which has many unique categories**\n",
    " \n",
    "- Ordinal encoding is used here as label encoder is supported for column transformer.\n",
    "\n",
    "- Ordinal encoding is used for Ordinal Variable. An ordinal variable is a categorical variable with a natural, ranked order between categories.\n",
    "\n",
    "**Standard Scaler**\n",
    "\n",
    "- Standardize features by removing the mean and scaling to unit variance.\n",
    "\n",
    "- Used when your numerical data is roughly normally distributed already.\n",
    "\n",
    "**Power Transformer**\n",
    "\n",
    "- Power transforms are a technique for transforming numerical input or output variables to have a Gaussian or more-Gaussian-like probability distribution.\n",
    "\n",
    "- Used when numerical data is highly skewed or has non-normal distributions.\n"
   ]
  },
  {
   "cell_type": "code",
   "execution_count": 21,
   "id": "f931c028",
   "metadata": {},
   "outputs": [
    {
     "name": "stdout",
     "output_type": "stream",
     "text": [
      "Numerical Features : ['no_of_employees', 'prevailing_wage', 'company_age']\n"
     ]
    }
   ],
   "source": [
    "numerical_features = [feature for feature in df.columns if df[feature].dtype != 'O']\n",
    "print('Numerical Features :', numerical_features)"
   ]
  },
  {
   "cell_type": "code",
   "execution_count": 22,
   "id": "d0847959",
   "metadata": {},
   "outputs": [],
   "source": [
    "# Preprocessing using Column Transformer\n",
    "\n",
    "# Ordinal Encoding for Columns which has many unique categories\n",
    "ordinal_columns = ['has_job_experience','requires_job_training','full_time_position','education_of_employee']\n",
    "# One Hot Encoding for Columns which had lesser unique values and not ordinal\n",
    "one_hot_columns = ['continent','unit_of_wage','region_of_employment']\n",
    "# Transform columns that are highly skewed using Power Transformer\n",
    "transform_columns = ['no_of_employees','company_age']\n",
    "\n",
    "from sklearn.preprocessing import OneHotEncoder, StandardScaler, OrdinalEncoder, PowerTransformer\n",
    "from sklearn.compose import ColumnTransformer\n",
    "from sklearn.pipeline import Pipeline\n",
    "\n",
    "standard_scaler = StandardScaler()\n",
    "one_hot_encoder = OneHotEncoder()\n",
    "ordinal_encoder = OrdinalEncoder()\n",
    "\n",
    "transform_pipeline = Pipeline(steps = [\n",
    "    ('transformer', PowerTransformer(method = 'yeo-johnson'))\n",
    "])\n",
    "\n",
    "preprocessor = ColumnTransformer(\n",
    "    [\n",
    "        (\"OneHotEncoder\", one_hot_encoder, one_hot_columns), # One Hot Encoding to columns with fewer unique values\n",
    "        (\"OrdinalEncoder\", ordinal_encoder, ordinal_columns), # Ordinal Encoding to columns with many unique categories\n",
    "        (\"Transformer\", transform_pipeline, transform_columns), # Power Transformer to highly skewed numerical features\n",
    "        (\"StandardScaler\", standard_scaler, numerical_features), # Standard Scaler to all numerical features\n",
    "    ]\n",
    ")"
   ]
  },
  {
   "cell_type": "code",
   "execution_count": 23,
   "id": "6f8d987b",
   "metadata": {},
   "outputs": [],
   "source": [
    "X = preprocessor.fit_transform(X)"
   ]
  },
  {
   "cell_type": "code",
   "execution_count": 24,
   "id": "debec4cf",
   "metadata": {},
   "outputs": [
    {
     "data": {
      "text/plain": [
       "array([[ 0.        ,  1.        ,  0.        , ...,  0.38666657,\n",
       "        -1.39853722, -0.65122993],\n",
       "       [ 0.        ,  1.        ,  0.        , ..., -0.14228155,\n",
       "         0.1698353 , -0.53321103],\n",
       "       [ 0.        ,  1.        ,  0.        , ...,  1.69498375,\n",
       "         0.91907852, -0.6748337 ],\n",
       "       ...,\n",
       "       [ 0.        ,  1.        ,  0.        , ..., -0.19871259,\n",
       "         1.36027953,  1.63833662],\n",
       "       [ 0.        ,  1.        ,  0.        , ..., -0.16387483,\n",
       "         0.22150859,  2.18122353],\n",
       "       [ 0.        ,  1.        ,  0.        , ..., -0.10805575,\n",
       "        -0.06776315,  0.45814768]])"
      ]
     },
     "execution_count": 24,
     "metadata": {},
     "output_type": "execute_result"
    }
   ],
   "source": [
    "X"
   ]
  },
  {
   "cell_type": "markdown",
   "id": "72f74da9",
   "metadata": {},
   "source": [
    "### **Resampling** "
   ]
  },
  {
   "cell_type": "code",
   "execution_count": 26,
   "id": "09e29adb",
   "metadata": {},
   "outputs": [],
   "source": [
    "from imblearn.combine import SMOTEENN, SMOTETomek\n",
    "\n",
    "# Resampling the minority class\n",
    "smote = SMOTEENN(random_state = 42, sampling_strategy = 'minority')\n",
    "\n",
    "X_res, Y_res = smote.fit_resample(X, Y)"
   ]
  },
  {
   "cell_type": "markdown",
   "id": "a5d124e2",
   "metadata": {},
   "source": [
    "### **Train Test Split**"
   ]
  },
  {
   "cell_type": "code",
   "execution_count": 28,
   "id": "3f730208",
   "metadata": {},
   "outputs": [
    {
     "name": "stdout",
     "output_type": "stream",
     "text": [
      "(13629, 24) (13629,)\n"
     ]
    }
   ],
   "source": [
    "from sklearn.model_selection import train_test_split\n",
    "\n",
    "X_train, X_test, Y_train, Y_test = train_test_split(X_res, Y_res, random_state = 42, test_size = 0.2)\n",
    "print(X_train.shape, Y_train.shape)"
   ]
  },
  {
   "cell_type": "markdown",
   "id": "bd81877f",
   "metadata": {},
   "source": [
    "### **Model Training**"
   ]
  },
  {
   "cell_type": "code",
   "execution_count": 29,
   "id": "53552359",
   "metadata": {},
   "outputs": [],
   "source": [
    "from sklearn.ensemble import RandomForestClassifier, AdaBoostClassifier, GradientBoostingClassifier\n",
    "from sklearn.linear_model import LogisticRegression\n",
    "from sklearn.neighbors import KNeighborsClassifier\n",
    "from sklearn.tree import DecisionTreeClassifier\n",
    "from catboost import CatBoostClassifier\n",
    "from xgboost import XGBClassifier\n",
    "from sklearn.svm import SVC\n",
    "\n",
    "from sklearn.metrics import accuracy_score, classification_report, ConfusionMatrixDisplay, \\\n",
    "    precision_score, recall_score, f1_score, roc_auc_score, roc_curve "
   ]
  },
  {
   "cell_type": "code",
   "execution_count": 30,
   "id": "66a6a413",
   "metadata": {},
   "outputs": [],
   "source": [
    "# Function to evaluate classification models\n",
    "\n",
    "def evaluate_classification(true, predicted):\n",
    "    accuracy = accuracy_score(true, predicted)\n",
    "    f1 = f1_score(true, predicted)\n",
    "    precision = precision_score(true, predicted)\n",
    "    recall = recall_score(true, predicted)\n",
    "    roc_auc = roc_auc_score(true, predicted)\n",
    "\n",
    "    return accuracy, f1, precision, recall, roc_auc"
   ]
  },
  {
   "cell_type": "code",
   "execution_count": 31,
   "id": "886ca4d0",
   "metadata": {},
   "outputs": [],
   "source": [
    "models = {\n",
    "    \"Random Forest\": RandomForestClassifier(),\n",
    "    \"Decision Tree\": DecisionTreeClassifier(),\n",
    "    \"Gradient Boosting\": GradientBoostingClassifier(),\n",
    "    \"Logistic Regression\": LogisticRegression(),\n",
    "    \"K-Neighbors Classifier\": KNeighborsClassifier(),\n",
    "    \"XGBClassifier\": XGBClassifier(), \n",
    "    \"CatBoosting Classifier\": CatBoostClassifier(verbose = False),\n",
    "    \"Support Vector Classifier\": SVC(),\n",
    "    \"AdaBoost Classifier\": AdaBoostClassifier()\n",
    "}"
   ]
  },
  {
   "cell_type": "code",
   "execution_count": 34,
   "id": "25dc12b4",
   "metadata": {},
   "outputs": [],
   "source": [
    "# Function to evaluate models and return report\n",
    "\n",
    "def evaluate_models(X, Y, models):\n",
    "    # Separate dataset into train and test\n",
    "    X_train, X_test, Y_train, Y_test = train_test_split(X, Y, test_size = 0.2, random_state = 42)\n",
    "\n",
    "    models_list = []\n",
    "    accuracy_list = []\n",
    "    auc = []\n",
    "\n",
    "    for i in range(len(list(models))):\n",
    "        model = list(models.values())[i]\n",
    "        # Training the model\n",
    "        model.fit(X_train, Y_train)\n",
    "\n",
    "        # Making predictions\n",
    "        Y_train_pred = model.predict(X_train)\n",
    "        Y_test_pred = model.predict(X_test)\n",
    "\n",
    "        # Training set performance\n",
    "        model_train_accuracy, model_train_f1, model_train_precision,\\\n",
    "        model_train_recall, model_train_rocauc_score = evaluate_classification(Y_train ,Y_train_pred)\n",
    "\n",
    "        # Testing set performance\n",
    "        model_test_accuracy, model_test_f1, model_test_precision,\\\n",
    "        model_test_recall, model_test_rocauc_score = evaluate_classification(Y_test, Y_test_pred)\n",
    "\n",
    "        print(list(models.keys())[i])\n",
    "        models_list.append(list(models.keys())[i])\n",
    "\n",
    "        print('Model performance for Training set')\n",
    "        print(\"- Accuracy: {:.4f}\".format(model_train_accuracy))\n",
    "        print('- F1 score: {:.4f}'.format(model_train_f1)) \n",
    "        print('- Precision: {:.4f}'.format(model_train_precision))\n",
    "        print('- Recall: {:.4f}'.format(model_train_recall))\n",
    "        print('- Roc Auc Score: {:.4f}'.format(model_train_rocauc_score))\n",
    "\n",
    "        print('----------------------------------')\n",
    "\n",
    "        print('Model performance for Test set')\n",
    "        print('- Accuracy: {:.4f}'.format(model_test_accuracy))\n",
    "        accuracy_list.append(model_test_accuracy)\n",
    "        print('- F1 score: {:.4f}'.format(model_test_f1))\n",
    "        print('- Precision: {:.4f}'.format(model_test_precision))\n",
    "        print('- Recall: {:.4f}'.format(model_test_recall))\n",
    "        print('- Roc Auc Score: {:.4f}'.format(model_test_rocauc_score))\n",
    "        auc.append(model_test_rocauc_score)\n",
    "        print('=' * 35)\n",
    "        print('\\n')\n",
    "\n",
    "    # Generating report in descending order of accuracy\n",
    "    report = pd.DataFrame(list(zip(models_list, accuracy_list)), columns = ['Model Name', 'Accuracy']).sort_values(by = ['Accuracy'], ascending = False)\n",
    "    return report\n",
    "\n"
   ]
  },
  {
   "cell_type": "code",
   "execution_count": 35,
   "id": "f9a0c99d",
   "metadata": {},
   "outputs": [
    {
     "name": "stdout",
     "output_type": "stream",
     "text": [
      "Random Forest\n",
      "Model performance for Training set\n",
      "- Accuracy: 1.0000\n",
      "- F1 score: 1.0000\n",
      "- Precision: 1.0000\n",
      "- Recall: 1.0000\n",
      "- Roc Auc Score: 1.0000\n",
      "----------------------------------\n",
      "Model performance for Test set\n",
      "- Accuracy: 0.9484\n",
      "- F1 score: 0.9438\n",
      "- Precision: 0.9480\n",
      "- Recall: 0.9396\n",
      "- Roc Auc Score: 0.9477\n",
      "===================================\n",
      "\n",
      "\n",
      "Decision Tree\n",
      "Model performance for Training set\n",
      "- Accuracy: 1.0000\n",
      "- F1 score: 1.0000\n",
      "- Precision: 1.0000\n",
      "- Recall: 1.0000\n",
      "- Roc Auc Score: 1.0000\n",
      "----------------------------------\n",
      "Model performance for Test set\n",
      "- Accuracy: 0.9161\n",
      "- F1 score: 0.9090\n",
      "- Precision: 0.9096\n",
      "- Recall: 0.9085\n",
      "- Roc Auc Score: 0.9155\n",
      "===================================\n",
      "\n",
      "\n",
      "Gradient Boosting\n",
      "Model performance for Training set\n",
      "- Accuracy: 0.8881\n",
      "- F1 score: 0.8800\n",
      "- Precision: 0.8697\n",
      "- Recall: 0.8906\n",
      "- Roc Auc Score: 0.8883\n",
      "----------------------------------\n",
      "Model performance for Test set\n",
      "- Accuracy: 0.8823\n",
      "- F1 score: 0.8750\n",
      "- Precision: 0.8586\n",
      "- Recall: 0.8919\n",
      "- Roc Auc Score: 0.8830\n",
      "===================================\n",
      "\n",
      "\n",
      "Logistic Regression\n",
      "Model performance for Training set\n",
      "- Accuracy: 0.7381\n",
      "- F1 score: 0.7205\n",
      "- Precision: 0.7087\n",
      "- Recall: 0.7327\n",
      "- Roc Auc Score: 0.7377\n",
      "----------------------------------\n",
      "Model performance for Test set\n",
      "- Accuracy: 0.7368\n",
      "- F1 score: 0.7220\n",
      "- Precision: 0.7044\n",
      "- Recall: 0.7406\n",
      "- Roc Auc Score: 0.7371\n",
      "===================================\n",
      "\n",
      "\n",
      "K-Neighbors Classifier\n",
      "Model performance for Training set\n",
      "- Accuracy: 0.9660\n",
      "- F1 score: 0.9625\n",
      "- Precision: 0.9758\n",
      "- Recall: 0.9497\n",
      "- Roc Auc Score: 0.9648\n",
      "----------------------------------\n",
      "Model performance for Test set\n",
      "- Accuracy: 0.9263\n",
      "- F1 score: 0.9191\n",
      "- Precision: 0.9326\n",
      "- Recall: 0.9059\n",
      "- Roc Auc Score: 0.9249\n",
      "===================================\n",
      "\n",
      "\n",
      "XGBClassifier\n",
      "Model performance for Training set\n",
      "- Accuracy: 0.9785\n",
      "- F1 score: 0.9766\n",
      "- Precision: 0.9781\n",
      "- Recall: 0.9752\n",
      "- Roc Auc Score: 0.9783\n",
      "----------------------------------\n",
      "Model performance for Test set\n",
      "- Accuracy: 0.9296\n",
      "- F1 score: 0.9244\n",
      "- Precision: 0.9163\n",
      "- Recall: 0.9326\n",
      "- Roc Auc Score: 0.9298\n",
      "===================================\n",
      "\n",
      "\n",
      "CatBoosting Classifier\n",
      "Model performance for Training set\n",
      "- Accuracy: 0.9547\n",
      "- F1 score: 0.9512\n",
      "- Precision: 0.9453\n",
      "- Recall: 0.9572\n",
      "- Roc Auc Score: 0.9549\n",
      "----------------------------------\n",
      "Model performance for Test set\n",
      "- Accuracy: 0.9269\n",
      "- F1 score: 0.9223\n",
      "- Precision: 0.9056\n",
      "- Recall: 0.9396\n",
      "- Roc Auc Score: 0.9278\n",
      "===================================\n",
      "\n",
      "\n",
      "Support Vector Classifier\n",
      "Model performance for Training set\n",
      "- Accuracy: 0.8734\n",
      "- F1 score: 0.8636\n",
      "- Precision: 0.8571\n",
      "- Recall: 0.8702\n",
      "- Roc Auc Score: 0.8731\n",
      "----------------------------------\n",
      "Model performance for Test set\n",
      "- Accuracy: 0.8609\n",
      "- F1 score: 0.8519\n",
      "- Precision: 0.8377\n",
      "- Recall: 0.8665\n",
      "- Roc Auc Score: 0.8613\n",
      "===================================\n",
      "\n",
      "\n",
      "AdaBoost Classifier\n",
      "Model performance for Training set\n",
      "- Accuracy: 0.8524\n",
      "- F1 score: 0.8394\n",
      "- Precision: 0.8414\n",
      "- Recall: 0.8374\n",
      "- Roc Auc Score: 0.8513\n",
      "----------------------------------\n",
      "Model performance for Test set\n",
      "- Accuracy: 0.8553\n",
      "- F1 score: 0.8437\n",
      "- Precision: 0.8413\n",
      "- Recall: 0.8462\n",
      "- Roc Auc Score: 0.8547\n",
      "===================================\n",
      "\n",
      "\n"
     ]
    }
   ],
   "source": [
    "model_report = evaluate_models(X = X_res, Y = Y_res, models = models)"
   ]
  },
  {
   "cell_type": "code",
   "execution_count": 36,
   "id": "0ab07e97",
   "metadata": {},
   "outputs": [
    {
     "data": {
      "text/html": [
       "<div>\n",
       "<style scoped>\n",
       "    .dataframe tbody tr th:only-of-type {\n",
       "        vertical-align: middle;\n",
       "    }\n",
       "\n",
       "    .dataframe tbody tr th {\n",
       "        vertical-align: top;\n",
       "    }\n",
       "\n",
       "    .dataframe thead th {\n",
       "        text-align: right;\n",
       "    }\n",
       "</style>\n",
       "<table border=\"1\" class=\"dataframe\">\n",
       "  <thead>\n",
       "    <tr style=\"text-align: right;\">\n",
       "      <th></th>\n",
       "      <th>Model Name</th>\n",
       "      <th>Accuracy</th>\n",
       "    </tr>\n",
       "  </thead>\n",
       "  <tbody>\n",
       "    <tr>\n",
       "      <th>0</th>\n",
       "      <td>Random Forest</td>\n",
       "      <td>0.948357</td>\n",
       "    </tr>\n",
       "    <tr>\n",
       "      <th>5</th>\n",
       "      <td>XGBClassifier</td>\n",
       "      <td>0.929577</td>\n",
       "    </tr>\n",
       "    <tr>\n",
       "      <th>6</th>\n",
       "      <td>CatBoosting Classifier</td>\n",
       "      <td>0.926937</td>\n",
       "    </tr>\n",
       "    <tr>\n",
       "      <th>4</th>\n",
       "      <td>K-Neighbors Classifier</td>\n",
       "      <td>0.926350</td>\n",
       "    </tr>\n",
       "    <tr>\n",
       "      <th>1</th>\n",
       "      <td>Decision Tree</td>\n",
       "      <td>0.916080</td>\n",
       "    </tr>\n",
       "    <tr>\n",
       "      <th>2</th>\n",
       "      <td>Gradient Boosting</td>\n",
       "      <td>0.882336</td>\n",
       "    </tr>\n",
       "    <tr>\n",
       "      <th>7</th>\n",
       "      <td>Support Vector Classifier</td>\n",
       "      <td>0.860915</td>\n",
       "    </tr>\n",
       "    <tr>\n",
       "      <th>8</th>\n",
       "      <td>AdaBoost Classifier</td>\n",
       "      <td>0.855340</td>\n",
       "    </tr>\n",
       "    <tr>\n",
       "      <th>3</th>\n",
       "      <td>Logistic Regression</td>\n",
       "      <td>0.736796</td>\n",
       "    </tr>\n",
       "  </tbody>\n",
       "</table>\n",
       "</div>"
      ],
      "text/plain": [
       "                  Model Name  Accuracy\n",
       "0              Random Forest  0.948357\n",
       "5              XGBClassifier  0.929577\n",
       "6     CatBoosting Classifier  0.926937\n",
       "4     K-Neighbors Classifier  0.926350\n",
       "1              Decision Tree  0.916080\n",
       "2          Gradient Boosting  0.882336\n",
       "7  Support Vector Classifier  0.860915\n",
       "8        AdaBoost Classifier  0.855340\n",
       "3        Logistic Regression  0.736796"
      ]
     },
     "execution_count": 36,
     "metadata": {},
     "output_type": "execute_result"
    }
   ],
   "source": [
    "model_report"
   ]
  },
  {
   "cell_type": "markdown",
   "id": "7d8ac3b0",
   "metadata": {},
   "source": [
    "**As Random Forest has the highest accuracy, we will use it for Hyperparameter Tuning**"
   ]
  },
  {
   "cell_type": "markdown",
   "id": "42d1c2bf",
   "metadata": {},
   "source": [
    "#### **Hyperparameter Tuning**"
   ]
  },
  {
   "cell_type": "code",
   "execution_count": 37,
   "id": "25d841be",
   "metadata": {},
   "outputs": [],
   "source": [
    "# Few parameters for Hyperparameter Tuning\n",
    "\n",
    "rf_params = {\n",
    "    \"max_depth\": [10, 12, None, 15, 20],\n",
    "    \"max_features\": ['sqrt', 'log2', None],\n",
    "    \"n_estimators\": [10, 50, 100, 200]\n",
    "}\n",
    "\n",
    "xgboost_params = {\n",
    "    'max_depth': range(3, 10, 2),\n",
    "    'min_child_weight': range(1, 6, 2)\n",
    "}\n",
    "\n",
    "knn_params = {\n",
    "    \"algorithm\": ['auto', 'ball_tree', 'kd_tree','brute'],\n",
    "    \"weights\": ['uniform', 'distance'],\n",
    "    \"n_neighbors\": [3, 4, 5, 7, 9],\n",
    "}"
   ]
  },
  {
   "cell_type": "code",
   "execution_count": 38,
   "id": "3b50755d",
   "metadata": {},
   "outputs": [],
   "source": [
    "randomcv_models = [\n",
    "    ('XGBoost', XGBClassifier(), xgboost_params),\n",
    "    (\"RF\", RandomForestClassifier(), rf_params),\n",
    "    (\"KNN\", KNeighborsClassifier(), knn_params)\n",
    "]"
   ]
  },
  {
   "cell_type": "code",
   "execution_count": 39,
   "id": "a4d6f3f5",
   "metadata": {},
   "outputs": [
    {
     "name": "stdout",
     "output_type": "stream",
     "text": [
      "Fitting 3 folds for each of 12 candidates, totalling 36 fits\n",
      "[CV] END ....................max_depth=3, min_child_weight=1; total time=   0.1s\n",
      "[CV] END ....................max_depth=3, min_child_weight=1; total time=   0.1s\n",
      "[CV] END ....................max_depth=3, min_child_weight=1; total time=   0.1s\n",
      "[CV] END ....................max_depth=3, min_child_weight=3; total time=   0.1s\n",
      "[CV] END ....................max_depth=3, min_child_weight=3; total time=   0.1s\n",
      "[CV] END ....................max_depth=3, min_child_weight=3; total time=   0.1s\n",
      "[CV] END ....................max_depth=3, min_child_weight=5; total time=   0.1s\n",
      "[CV] END ....................max_depth=3, min_child_weight=5; total time=   0.1s\n",
      "[CV] END ....................max_depth=3, min_child_weight=5; total time=   0.1s\n",
      "[CV] END ....................max_depth=5, min_child_weight=1; total time=   0.1s\n",
      "[CV] END ....................max_depth=5, min_child_weight=1; total time=   0.1s\n",
      "[CV] END ....................max_depth=5, min_child_weight=1; total time=   0.1s\n",
      "[CV] END ....................max_depth=5, min_child_weight=3; total time=   0.1s\n",
      "[CV] END ....................max_depth=5, min_child_weight=3; total time=   0.1s\n",
      "[CV] END ....................max_depth=5, min_child_weight=3; total time=   0.1s\n",
      "[CV] END ....................max_depth=5, min_child_weight=5; total time=   0.1s\n",
      "[CV] END ....................max_depth=5, min_child_weight=5; total time=   0.1s\n",
      "[CV] END ....................max_depth=5, min_child_weight=5; total time=   0.1s\n",
      "[CV] END ....................max_depth=7, min_child_weight=1; total time=   0.2s\n",
      "[CV] END ....................max_depth=7, min_child_weight=1; total time=   0.2s\n",
      "[CV] END ....................max_depth=7, min_child_weight=1; total time=   0.2s\n",
      "[CV] END ....................max_depth=7, min_child_weight=3; total time=   0.2s\n",
      "[CV] END ....................max_depth=7, min_child_weight=3; total time=   0.2s\n",
      "[CV] END ....................max_depth=7, min_child_weight=3; total time=   0.2s\n",
      "[CV] END ....................max_depth=7, min_child_weight=5; total time=   0.2s\n",
      "[CV] END ....................max_depth=7, min_child_weight=5; total time=   0.2s\n",
      "[CV] END ....................max_depth=7, min_child_weight=5; total time=   0.2s\n",
      "[CV] END ....................max_depth=9, min_child_weight=1; total time=   0.2s\n",
      "[CV] END ....................max_depth=9, min_child_weight=1; total time=   0.2s\n",
      "[CV] END ....................max_depth=9, min_child_weight=1; total time=   0.2s\n",
      "[CV] END ....................max_depth=9, min_child_weight=3; total time=   0.2s\n",
      "[CV] END ....................max_depth=9, min_child_weight=3; total time=   0.2s\n",
      "[CV] END ....................max_depth=9, min_child_weight=3; total time=   0.2s\n",
      "[CV] END ....................max_depth=9, min_child_weight=5; total time=   0.2s\n",
      "[CV] END ....................max_depth=9, min_child_weight=5; total time=   0.2s\n",
      "[CV] END ....................max_depth=9, min_child_weight=5; total time=   0.2s\n",
      "Fitting 3 folds for each of 60 candidates, totalling 180 fits\n",
      "[CV] END ...max_depth=10, max_features=sqrt, n_estimators=10; total time=   0.1s\n",
      "[CV] END ...max_depth=10, max_features=sqrt, n_estimators=10; total time=   0.1s\n",
      "[CV] END ...max_depth=10, max_features=sqrt, n_estimators=10; total time=   0.1s\n",
      "[CV] END ...max_depth=10, max_features=sqrt, n_estimators=50; total time=   0.3s\n",
      "[CV] END ...max_depth=10, max_features=sqrt, n_estimators=50; total time=   0.3s\n",
      "[CV] END ...max_depth=10, max_features=sqrt, n_estimators=50; total time=   0.3s\n",
      "[CV] END ..max_depth=10, max_features=sqrt, n_estimators=100; total time=   0.6s\n",
      "[CV] END ..max_depth=10, max_features=sqrt, n_estimators=100; total time=   0.6s\n",
      "[CV] END ..max_depth=10, max_features=sqrt, n_estimators=100; total time=   0.6s\n",
      "[CV] END ..max_depth=10, max_features=sqrt, n_estimators=200; total time=   1.2s\n",
      "[CV] END ..max_depth=10, max_features=sqrt, n_estimators=200; total time=   1.2s\n",
      "[CV] END ..max_depth=10, max_features=sqrt, n_estimators=200; total time=   1.2s\n",
      "[CV] END ...max_depth=10, max_features=log2, n_estimators=10; total time=   0.1s\n",
      "[CV] END ...max_depth=10, max_features=log2, n_estimators=10; total time=   0.1s\n",
      "[CV] END ...max_depth=10, max_features=log2, n_estimators=10; total time=   0.1s\n",
      "[CV] END ...max_depth=10, max_features=log2, n_estimators=50; total time=   0.3s\n",
      "[CV] END ...max_depth=10, max_features=log2, n_estimators=50; total time=   0.3s\n",
      "[CV] END ...max_depth=10, max_features=log2, n_estimators=50; total time=   0.3s\n",
      "[CV] END ..max_depth=10, max_features=log2, n_estimators=100; total time=   0.6s\n",
      "[CV] END ..max_depth=10, max_features=log2, n_estimators=100; total time=   0.6s\n",
      "[CV] END ..max_depth=10, max_features=log2, n_estimators=100; total time=   0.6s\n",
      "[CV] END ..max_depth=10, max_features=log2, n_estimators=200; total time=   1.2s\n",
      "[CV] END ..max_depth=10, max_features=log2, n_estimators=200; total time=   1.2s\n",
      "[CV] END ..max_depth=10, max_features=log2, n_estimators=200; total time=   1.2s\n",
      "[CV] END ...max_depth=10, max_features=None, n_estimators=10; total time=   0.3s\n",
      "[CV] END ...max_depth=10, max_features=None, n_estimators=10; total time=   0.3s\n",
      "[CV] END ...max_depth=10, max_features=None, n_estimators=10; total time=   0.3s\n",
      "[CV] END ...max_depth=10, max_features=None, n_estimators=50; total time=   1.4s\n",
      "[CV] END ...max_depth=10, max_features=None, n_estimators=50; total time=   1.3s\n",
      "[CV] END ...max_depth=10, max_features=None, n_estimators=50; total time=   1.3s\n",
      "[CV] END ..max_depth=10, max_features=None, n_estimators=100; total time=   2.8s\n",
      "[CV] END ..max_depth=10, max_features=None, n_estimators=100; total time=   2.7s\n",
      "[CV] END ..max_depth=10, max_features=None, n_estimators=100; total time=   2.5s\n",
      "[CV] END ..max_depth=10, max_features=None, n_estimators=200; total time=   5.5s\n",
      "[CV] END ..max_depth=10, max_features=None, n_estimators=200; total time=   5.3s\n",
      "[CV] END ..max_depth=10, max_features=None, n_estimators=200; total time=   5.0s\n",
      "[CV] END ...max_depth=12, max_features=sqrt, n_estimators=10; total time=   0.1s\n",
      "[CV] END ...max_depth=12, max_features=sqrt, n_estimators=10; total time=   0.1s\n",
      "[CV] END ...max_depth=12, max_features=sqrt, n_estimators=10; total time=   0.1s\n",
      "[CV] END ...max_depth=12, max_features=sqrt, n_estimators=50; total time=   0.3s\n",
      "[CV] END ...max_depth=12, max_features=sqrt, n_estimators=50; total time=   0.3s\n",
      "[CV] END ...max_depth=12, max_features=sqrt, n_estimators=50; total time=   0.3s\n",
      "[CV] END ..max_depth=12, max_features=sqrt, n_estimators=100; total time=   0.7s\n",
      "[CV] END ..max_depth=12, max_features=sqrt, n_estimators=100; total time=   0.7s\n",
      "[CV] END ..max_depth=12, max_features=sqrt, n_estimators=100; total time=   0.7s\n",
      "[CV] END ..max_depth=12, max_features=sqrt, n_estimators=200; total time=   1.4s\n",
      "[CV] END ..max_depth=12, max_features=sqrt, n_estimators=200; total time=   1.3s\n",
      "[CV] END ..max_depth=12, max_features=sqrt, n_estimators=200; total time=   1.3s\n",
      "[CV] END ...max_depth=12, max_features=log2, n_estimators=10; total time=   0.1s\n",
      "[CV] END ...max_depth=12, max_features=log2, n_estimators=10; total time=   0.1s\n",
      "[CV] END ...max_depth=12, max_features=log2, n_estimators=10; total time=   0.1s\n",
      "[CV] END ...max_depth=12, max_features=log2, n_estimators=50; total time=   0.3s\n",
      "[CV] END ...max_depth=12, max_features=log2, n_estimators=50; total time=   0.3s\n",
      "[CV] END ...max_depth=12, max_features=log2, n_estimators=50; total time=   0.3s\n",
      "[CV] END ..max_depth=12, max_features=log2, n_estimators=100; total time=   0.7s\n",
      "[CV] END ..max_depth=12, max_features=log2, n_estimators=100; total time=   0.6s\n",
      "[CV] END ..max_depth=12, max_features=log2, n_estimators=100; total time=   0.6s\n",
      "[CV] END ..max_depth=12, max_features=log2, n_estimators=200; total time=   1.3s\n",
      "[CV] END ..max_depth=12, max_features=log2, n_estimators=200; total time=   1.3s\n",
      "[CV] END ..max_depth=12, max_features=log2, n_estimators=200; total time=   1.3s\n",
      "[CV] END ...max_depth=12, max_features=None, n_estimators=10; total time=   0.3s\n",
      "[CV] END ...max_depth=12, max_features=None, n_estimators=10; total time=   0.3s\n",
      "[CV] END ...max_depth=12, max_features=None, n_estimators=10; total time=   0.3s\n",
      "[CV] END ...max_depth=12, max_features=None, n_estimators=50; total time=   1.5s\n",
      "[CV] END ...max_depth=12, max_features=None, n_estimators=50; total time=   1.5s\n",
      "[CV] END ...max_depth=12, max_features=None, n_estimators=50; total time=   1.4s\n",
      "[CV] END ..max_depth=12, max_features=None, n_estimators=100; total time=   3.0s\n",
      "[CV] END ..max_depth=12, max_features=None, n_estimators=100; total time=   2.9s\n",
      "[CV] END ..max_depth=12, max_features=None, n_estimators=100; total time=   2.7s\n",
      "[CV] END ..max_depth=12, max_features=None, n_estimators=200; total time=   6.0s\n",
      "[CV] END ..max_depth=12, max_features=None, n_estimators=200; total time=   5.8s\n",
      "[CV] END ..max_depth=12, max_features=None, n_estimators=200; total time=   5.5s\n",
      "[CV] END .max_depth=None, max_features=sqrt, n_estimators=10; total time=   0.1s\n",
      "[CV] END .max_depth=None, max_features=sqrt, n_estimators=10; total time=   0.1s\n",
      "[CV] END .max_depth=None, max_features=sqrt, n_estimators=10; total time=   0.1s\n",
      "[CV] END .max_depth=None, max_features=sqrt, n_estimators=50; total time=   0.4s\n",
      "[CV] END .max_depth=None, max_features=sqrt, n_estimators=50; total time=   0.4s\n",
      "[CV] END .max_depth=None, max_features=sqrt, n_estimators=50; total time=   0.4s\n",
      "[CV] END max_depth=None, max_features=sqrt, n_estimators=100; total time=   0.8s\n",
      "[CV] END max_depth=None, max_features=sqrt, n_estimators=100; total time=   0.8s\n",
      "[CV] END max_depth=None, max_features=sqrt, n_estimators=100; total time=   0.8s\n",
      "[CV] END max_depth=None, max_features=sqrt, n_estimators=200; total time=   1.7s\n",
      "[CV] END max_depth=None, max_features=sqrt, n_estimators=200; total time=   1.6s\n",
      "[CV] END max_depth=None, max_features=sqrt, n_estimators=200; total time=   1.6s\n",
      "[CV] END .max_depth=None, max_features=log2, n_estimators=10; total time=   0.1s\n",
      "[CV] END .max_depth=None, max_features=log2, n_estimators=10; total time=   0.1s\n",
      "[CV] END .max_depth=None, max_features=log2, n_estimators=10; total time=   0.1s\n",
      "[CV] END .max_depth=None, max_features=log2, n_estimators=50; total time=   0.4s\n",
      "[CV] END .max_depth=None, max_features=log2, n_estimators=50; total time=   0.4s\n",
      "[CV] END .max_depth=None, max_features=log2, n_estimators=50; total time=   0.4s\n",
      "[CV] END max_depth=None, max_features=log2, n_estimators=100; total time=   0.9s\n",
      "[CV] END max_depth=None, max_features=log2, n_estimators=100; total time=   0.8s\n",
      "[CV] END max_depth=None, max_features=log2, n_estimators=100; total time=   0.8s\n",
      "[CV] END max_depth=None, max_features=log2, n_estimators=200; total time=   1.7s\n",
      "[CV] END max_depth=None, max_features=log2, n_estimators=200; total time=   1.6s\n",
      "[CV] END max_depth=None, max_features=log2, n_estimators=200; total time=   1.6s\n",
      "[CV] END .max_depth=None, max_features=None, n_estimators=10; total time=   0.3s\n",
      "[CV] END .max_depth=None, max_features=None, n_estimators=10; total time=   0.3s\n",
      "[CV] END .max_depth=None, max_features=None, n_estimators=10; total time=   0.3s\n",
      "[CV] END .max_depth=None, max_features=None, n_estimators=50; total time=   1.7s\n",
      "[CV] END .max_depth=None, max_features=None, n_estimators=50; total time=   1.7s\n",
      "[CV] END .max_depth=None, max_features=None, n_estimators=50; total time=   1.5s\n",
      "[CV] END max_depth=None, max_features=None, n_estimators=100; total time=   3.3s\n",
      "[CV] END max_depth=None, max_features=None, n_estimators=100; total time=   3.2s\n",
      "[CV] END max_depth=None, max_features=None, n_estimators=100; total time=   3.0s\n",
      "[CV] END max_depth=None, max_features=None, n_estimators=200; total time=   6.6s\n",
      "[CV] END max_depth=None, max_features=None, n_estimators=200; total time=   6.5s\n",
      "[CV] END max_depth=None, max_features=None, n_estimators=200; total time=   5.9s\n",
      "[CV] END ...max_depth=15, max_features=sqrt, n_estimators=10; total time=   0.1s\n",
      "[CV] END ...max_depth=15, max_features=sqrt, n_estimators=10; total time=   0.1s\n",
      "[CV] END ...max_depth=15, max_features=sqrt, n_estimators=10; total time=   0.1s\n",
      "[CV] END ...max_depth=15, max_features=sqrt, n_estimators=50; total time=   0.4s\n",
      "[CV] END ...max_depth=15, max_features=sqrt, n_estimators=50; total time=   0.4s\n",
      "[CV] END ...max_depth=15, max_features=sqrt, n_estimators=50; total time=   0.4s\n",
      "[CV] END ..max_depth=15, max_features=sqrt, n_estimators=100; total time=   0.8s\n",
      "[CV] END ..max_depth=15, max_features=sqrt, n_estimators=100; total time=   0.7s\n",
      "[CV] END ..max_depth=15, max_features=sqrt, n_estimators=100; total time=   0.7s\n",
      "[CV] END ..max_depth=15, max_features=sqrt, n_estimators=200; total time=   1.5s\n",
      "[CV] END ..max_depth=15, max_features=sqrt, n_estimators=200; total time=   1.5s\n",
      "[CV] END ..max_depth=15, max_features=sqrt, n_estimators=200; total time=   1.4s\n",
      "[CV] END ...max_depth=15, max_features=log2, n_estimators=10; total time=   0.1s\n",
      "[CV] END ...max_depth=15, max_features=log2, n_estimators=10; total time=   0.1s\n",
      "[CV] END ...max_depth=15, max_features=log2, n_estimators=10; total time=   0.1s\n",
      "[CV] END ...max_depth=15, max_features=log2, n_estimators=50; total time=   0.4s\n",
      "[CV] END ...max_depth=15, max_features=log2, n_estimators=50; total time=   0.4s\n",
      "[CV] END ...max_depth=15, max_features=log2, n_estimators=50; total time=   0.4s\n",
      "[CV] END ..max_depth=15, max_features=log2, n_estimators=100; total time=   0.8s\n",
      "[CV] END ..max_depth=15, max_features=log2, n_estimators=100; total time=   0.8s\n",
      "[CV] END ..max_depth=15, max_features=log2, n_estimators=100; total time=   0.7s\n",
      "[CV] END ..max_depth=15, max_features=log2, n_estimators=200; total time=   1.5s\n",
      "[CV] END ..max_depth=15, max_features=log2, n_estimators=200; total time=   1.5s\n",
      "[CV] END ..max_depth=15, max_features=log2, n_estimators=200; total time=   1.4s\n",
      "[CV] END ...max_depth=15, max_features=None, n_estimators=10; total time=   0.3s\n",
      "[CV] END ...max_depth=15, max_features=None, n_estimators=10; total time=   0.3s\n",
      "[CV] END ...max_depth=15, max_features=None, n_estimators=10; total time=   0.3s\n",
      "[CV] END ...max_depth=15, max_features=None, n_estimators=50; total time=   1.6s\n",
      "[CV] END ...max_depth=15, max_features=None, n_estimators=50; total time=   1.6s\n",
      "[CV] END ...max_depth=15, max_features=None, n_estimators=50; total time=   1.5s\n",
      "[CV] END ..max_depth=15, max_features=None, n_estimators=100; total time=   3.2s\n",
      "[CV] END ..max_depth=15, max_features=None, n_estimators=100; total time=   3.1s\n",
      "[CV] END ..max_depth=15, max_features=None, n_estimators=100; total time=   2.9s\n",
      "[CV] END ..max_depth=15, max_features=None, n_estimators=200; total time=   6.5s\n",
      "[CV] END ..max_depth=15, max_features=None, n_estimators=200; total time=   6.3s\n",
      "[CV] END ..max_depth=15, max_features=None, n_estimators=200; total time=   5.8s\n",
      "[CV] END ...max_depth=20, max_features=sqrt, n_estimators=10; total time=   0.1s\n",
      "[CV] END ...max_depth=20, max_features=sqrt, n_estimators=10; total time=   0.1s\n",
      "[CV] END ...max_depth=20, max_features=sqrt, n_estimators=10; total time=   0.1s\n",
      "[CV] END ...max_depth=20, max_features=sqrt, n_estimators=50; total time=   0.4s\n",
      "[CV] END ...max_depth=20, max_features=sqrt, n_estimators=50; total time=   0.4s\n",
      "[CV] END ...max_depth=20, max_features=sqrt, n_estimators=50; total time=   0.4s\n",
      "[CV] END ..max_depth=20, max_features=sqrt, n_estimators=100; total time=   0.8s\n",
      "[CV] END ..max_depth=20, max_features=sqrt, n_estimators=100; total time=   0.8s\n",
      "[CV] END ..max_depth=20, max_features=sqrt, n_estimators=100; total time=   0.8s\n",
      "[CV] END ..max_depth=20, max_features=sqrt, n_estimators=200; total time=   1.6s\n",
      "[CV] END ..max_depth=20, max_features=sqrt, n_estimators=200; total time=   1.6s\n",
      "[CV] END ..max_depth=20, max_features=sqrt, n_estimators=200; total time=   1.5s\n",
      "[CV] END ...max_depth=20, max_features=log2, n_estimators=10; total time=   0.1s\n",
      "[CV] END ...max_depth=20, max_features=log2, n_estimators=10; total time=   0.1s\n",
      "[CV] END ...max_depth=20, max_features=log2, n_estimators=10; total time=   0.1s\n",
      "[CV] END ...max_depth=20, max_features=log2, n_estimators=50; total time=   0.4s\n",
      "[CV] END ...max_depth=20, max_features=log2, n_estimators=50; total time=   0.4s\n",
      "[CV] END ...max_depth=20, max_features=log2, n_estimators=50; total time=   0.4s\n",
      "[CV] END ..max_depth=20, max_features=log2, n_estimators=100; total time=   0.8s\n",
      "[CV] END ..max_depth=20, max_features=log2, n_estimators=100; total time=   0.8s\n",
      "[CV] END ..max_depth=20, max_features=log2, n_estimators=100; total time=   0.8s\n",
      "[CV] END ..max_depth=20, max_features=log2, n_estimators=200; total time=   1.7s\n",
      "[CV] END ..max_depth=20, max_features=log2, n_estimators=200; total time=   1.6s\n",
      "[CV] END ..max_depth=20, max_features=log2, n_estimators=200; total time=   1.5s\n",
      "[CV] END ...max_depth=20, max_features=None, n_estimators=10; total time=   0.3s\n",
      "[CV] END ...max_depth=20, max_features=None, n_estimators=10; total time=   0.3s\n",
      "[CV] END ...max_depth=20, max_features=None, n_estimators=10; total time=   0.3s\n",
      "[CV] END ...max_depth=20, max_features=None, n_estimators=50; total time=   1.7s\n",
      "[CV] END ...max_depth=20, max_features=None, n_estimators=50; total time=   1.6s\n",
      "[CV] END ...max_depth=20, max_features=None, n_estimators=50; total time=   1.5s\n",
      "[CV] END ..max_depth=20, max_features=None, n_estimators=100; total time=   3.3s\n",
      "[CV] END ..max_depth=20, max_features=None, n_estimators=100; total time=   3.2s\n",
      "[CV] END ..max_depth=20, max_features=None, n_estimators=100; total time=   2.9s\n",
      "[CV] END ..max_depth=20, max_features=None, n_estimators=200; total time=   6.7s\n",
      "[CV] END ..max_depth=20, max_features=None, n_estimators=200; total time=   6.5s\n",
      "[CV] END ..max_depth=20, max_features=None, n_estimators=200; total time=   5.9s\n",
      "Fitting 3 folds for each of 40 candidates, totalling 120 fits\n",
      "[CV] END .....algorithm=auto, n_neighbors=3, weights=uniform; total time=   0.1s\n",
      "[CV] END .....algorithm=auto, n_neighbors=3, weights=uniform; total time=   0.0s\n",
      "[CV] END .....algorithm=auto, n_neighbors=3, weights=uniform; total time=   0.0s\n",
      "[CV] END ....algorithm=auto, n_neighbors=3, weights=distance; total time=   0.1s\n",
      "[CV] END ....algorithm=auto, n_neighbors=3, weights=distance; total time=   0.0s\n",
      "[CV] END ....algorithm=auto, n_neighbors=3, weights=distance; total time=   0.0s\n",
      "[CV] END .....algorithm=auto, n_neighbors=4, weights=uniform; total time=   0.0s\n",
      "[CV] END .....algorithm=auto, n_neighbors=4, weights=uniform; total time=   0.0s\n",
      "[CV] END .....algorithm=auto, n_neighbors=4, weights=uniform; total time=   0.1s\n",
      "[CV] END ....algorithm=auto, n_neighbors=4, weights=distance; total time=   0.1s\n",
      "[CV] END ....algorithm=auto, n_neighbors=4, weights=distance; total time=   0.0s\n",
      "[CV] END ....algorithm=auto, n_neighbors=4, weights=distance; total time=   0.0s\n",
      "[CV] END .....algorithm=auto, n_neighbors=5, weights=uniform; total time=   0.1s\n",
      "[CV] END .....algorithm=auto, n_neighbors=5, weights=uniform; total time=   0.0s\n",
      "[CV] END .....algorithm=auto, n_neighbors=5, weights=uniform; total time=   0.0s\n",
      "[CV] END ....algorithm=auto, n_neighbors=5, weights=distance; total time=   0.0s\n",
      "[CV] END ....algorithm=auto, n_neighbors=5, weights=distance; total time=   0.0s\n",
      "[CV] END ....algorithm=auto, n_neighbors=5, weights=distance; total time=   0.0s\n",
      "[CV] END .....algorithm=auto, n_neighbors=7, weights=uniform; total time=   0.1s\n",
      "[CV] END .....algorithm=auto, n_neighbors=7, weights=uniform; total time=   0.1s\n",
      "[CV] END .....algorithm=auto, n_neighbors=7, weights=uniform; total time=   0.1s\n",
      "[CV] END ....algorithm=auto, n_neighbors=7, weights=distance; total time=   0.1s\n",
      "[CV] END ....algorithm=auto, n_neighbors=7, weights=distance; total time=   0.1s\n",
      "[CV] END ....algorithm=auto, n_neighbors=7, weights=distance; total time=   0.1s\n",
      "[CV] END .....algorithm=auto, n_neighbors=9, weights=uniform; total time=   0.1s\n",
      "[CV] END .....algorithm=auto, n_neighbors=9, weights=uniform; total time=   0.1s\n",
      "[CV] END .....algorithm=auto, n_neighbors=9, weights=uniform; total time=   0.1s\n",
      "[CV] END ....algorithm=auto, n_neighbors=9, weights=distance; total time=   0.1s\n",
      "[CV] END ....algorithm=auto, n_neighbors=9, weights=distance; total time=   0.1s\n",
      "[CV] END ....algorithm=auto, n_neighbors=9, weights=distance; total time=   0.1s\n",
      "[CV] END algorithm=ball_tree, n_neighbors=3, weights=uniform; total time=   0.4s\n",
      "[CV] END algorithm=ball_tree, n_neighbors=3, weights=uniform; total time=   0.4s\n",
      "[CV] END algorithm=ball_tree, n_neighbors=3, weights=uniform; total time=   0.4s\n",
      "[CV] END algorithm=ball_tree, n_neighbors=3, weights=distance; total time=   0.4s\n",
      "[CV] END algorithm=ball_tree, n_neighbors=3, weights=distance; total time=   0.4s\n",
      "[CV] END algorithm=ball_tree, n_neighbors=3, weights=distance; total time=   0.4s\n",
      "[CV] END algorithm=ball_tree, n_neighbors=4, weights=uniform; total time=   0.4s\n",
      "[CV] END algorithm=ball_tree, n_neighbors=4, weights=uniform; total time=   0.4s\n",
      "[CV] END algorithm=ball_tree, n_neighbors=4, weights=uniform; total time=   0.4s\n",
      "[CV] END algorithm=ball_tree, n_neighbors=4, weights=distance; total time=   0.4s\n",
      "[CV] END algorithm=ball_tree, n_neighbors=4, weights=distance; total time=   0.4s\n",
      "[CV] END algorithm=ball_tree, n_neighbors=4, weights=distance; total time=   0.4s\n",
      "[CV] END algorithm=ball_tree, n_neighbors=5, weights=uniform; total time=   0.4s\n",
      "[CV] END algorithm=ball_tree, n_neighbors=5, weights=uniform; total time=   0.4s\n",
      "[CV] END algorithm=ball_tree, n_neighbors=5, weights=uniform; total time=   0.4s\n",
      "[CV] END algorithm=ball_tree, n_neighbors=5, weights=distance; total time=   0.4s\n",
      "[CV] END algorithm=ball_tree, n_neighbors=5, weights=distance; total time=   0.4s\n",
      "[CV] END algorithm=ball_tree, n_neighbors=5, weights=distance; total time=   0.4s\n",
      "[CV] END algorithm=ball_tree, n_neighbors=7, weights=uniform; total time=   0.4s\n",
      "[CV] END algorithm=ball_tree, n_neighbors=7, weights=uniform; total time=   0.5s\n",
      "[CV] END algorithm=ball_tree, n_neighbors=7, weights=uniform; total time=   0.5s\n",
      "[CV] END algorithm=ball_tree, n_neighbors=7, weights=distance; total time=   0.4s\n",
      "[CV] END algorithm=ball_tree, n_neighbors=7, weights=distance; total time=   0.5s\n",
      "[CV] END algorithm=ball_tree, n_neighbors=7, weights=distance; total time=   0.5s\n",
      "[CV] END algorithm=ball_tree, n_neighbors=9, weights=uniform; total time=   0.5s\n",
      "[CV] END algorithm=ball_tree, n_neighbors=9, weights=uniform; total time=   0.5s\n",
      "[CV] END algorithm=ball_tree, n_neighbors=9, weights=uniform; total time=   0.5s\n",
      "[CV] END algorithm=ball_tree, n_neighbors=9, weights=distance; total time=   0.5s\n",
      "[CV] END algorithm=ball_tree, n_neighbors=9, weights=distance; total time=   0.5s\n",
      "[CV] END algorithm=ball_tree, n_neighbors=9, weights=distance; total time=   0.5s\n",
      "[CV] END ..algorithm=kd_tree, n_neighbors=3, weights=uniform; total time=   0.1s\n",
      "[CV] END ..algorithm=kd_tree, n_neighbors=3, weights=uniform; total time=   0.1s\n",
      "[CV] END ..algorithm=kd_tree, n_neighbors=3, weights=uniform; total time=   0.1s\n",
      "[CV] END .algorithm=kd_tree, n_neighbors=3, weights=distance; total time=   0.1s\n",
      "[CV] END .algorithm=kd_tree, n_neighbors=3, weights=distance; total time=   0.1s\n",
      "[CV] END .algorithm=kd_tree, n_neighbors=3, weights=distance; total time=   0.1s\n",
      "[CV] END ..algorithm=kd_tree, n_neighbors=4, weights=uniform; total time=   0.2s\n",
      "[CV] END ..algorithm=kd_tree, n_neighbors=4, weights=uniform; total time=   0.2s\n",
      "[CV] END ..algorithm=kd_tree, n_neighbors=4, weights=uniform; total time=   0.2s\n",
      "[CV] END .algorithm=kd_tree, n_neighbors=4, weights=distance; total time=   0.2s\n",
      "[CV] END .algorithm=kd_tree, n_neighbors=4, weights=distance; total time=   0.2s\n",
      "[CV] END .algorithm=kd_tree, n_neighbors=4, weights=distance; total time=   0.2s\n",
      "[CV] END ..algorithm=kd_tree, n_neighbors=5, weights=uniform; total time=   0.2s\n",
      "[CV] END ..algorithm=kd_tree, n_neighbors=5, weights=uniform; total time=   0.2s\n",
      "[CV] END ..algorithm=kd_tree, n_neighbors=5, weights=uniform; total time=   0.2s\n",
      "[CV] END .algorithm=kd_tree, n_neighbors=5, weights=distance; total time=   0.2s\n",
      "[CV] END .algorithm=kd_tree, n_neighbors=5, weights=distance; total time=   0.2s\n",
      "[CV] END .algorithm=kd_tree, n_neighbors=5, weights=distance; total time=   0.2s\n",
      "[CV] END ..algorithm=kd_tree, n_neighbors=7, weights=uniform; total time=   0.2s\n",
      "[CV] END ..algorithm=kd_tree, n_neighbors=7, weights=uniform; total time=   0.2s\n",
      "[CV] END ..algorithm=kd_tree, n_neighbors=7, weights=uniform; total time=   0.2s\n",
      "[CV] END .algorithm=kd_tree, n_neighbors=7, weights=distance; total time=   0.2s\n",
      "[CV] END .algorithm=kd_tree, n_neighbors=7, weights=distance; total time=   0.2s\n",
      "[CV] END .algorithm=kd_tree, n_neighbors=7, weights=distance; total time=   0.2s\n",
      "[CV] END ..algorithm=kd_tree, n_neighbors=9, weights=uniform; total time=   0.2s\n",
      "[CV] END ..algorithm=kd_tree, n_neighbors=9, weights=uniform; total time=   0.2s\n",
      "[CV] END ..algorithm=kd_tree, n_neighbors=9, weights=uniform; total time=   0.2s\n",
      "[CV] END .algorithm=kd_tree, n_neighbors=9, weights=distance; total time=   0.2s\n",
      "[CV] END .algorithm=kd_tree, n_neighbors=9, weights=distance; total time=   0.2s\n",
      "[CV] END .algorithm=kd_tree, n_neighbors=9, weights=distance; total time=   0.2s\n",
      "[CV] END ....algorithm=brute, n_neighbors=3, weights=uniform; total time=   0.0s\n",
      "[CV] END ....algorithm=brute, n_neighbors=3, weights=uniform; total time=   0.0s\n",
      "[CV] END ....algorithm=brute, n_neighbors=3, weights=uniform; total time=   0.0s\n",
      "[CV] END ...algorithm=brute, n_neighbors=3, weights=distance; total time=   0.0s\n",
      "[CV] END ...algorithm=brute, n_neighbors=3, weights=distance; total time=   0.1s\n",
      "[CV] END ...algorithm=brute, n_neighbors=3, weights=distance; total time=   0.1s\n",
      "[CV] END ....algorithm=brute, n_neighbors=4, weights=uniform; total time=   0.0s\n",
      "[CV] END ....algorithm=brute, n_neighbors=4, weights=uniform; total time=   0.0s\n",
      "[CV] END ....algorithm=brute, n_neighbors=4, weights=uniform; total time=   0.0s\n",
      "[CV] END ...algorithm=brute, n_neighbors=4, weights=distance; total time=   0.0s\n",
      "[CV] END ...algorithm=brute, n_neighbors=4, weights=distance; total time=   0.0s\n",
      "[CV] END ...algorithm=brute, n_neighbors=4, weights=distance; total time=   0.0s\n",
      "[CV] END ....algorithm=brute, n_neighbors=5, weights=uniform; total time=   0.0s\n",
      "[CV] END ....algorithm=brute, n_neighbors=5, weights=uniform; total time=   0.0s\n",
      "[CV] END ....algorithm=brute, n_neighbors=5, weights=uniform; total time=   0.1s\n",
      "[CV] END ...algorithm=brute, n_neighbors=5, weights=distance; total time=   0.0s\n",
      "[CV] END ...algorithm=brute, n_neighbors=5, weights=distance; total time=   0.1s\n",
      "[CV] END ...algorithm=brute, n_neighbors=5, weights=distance; total time=   0.0s\n",
      "[CV] END ....algorithm=brute, n_neighbors=7, weights=uniform; total time=   0.0s\n",
      "[CV] END ....algorithm=brute, n_neighbors=7, weights=uniform; total time=   0.1s\n",
      "[CV] END ....algorithm=brute, n_neighbors=7, weights=uniform; total time=   0.1s\n",
      "[CV] END ...algorithm=brute, n_neighbors=7, weights=distance; total time=   0.1s\n",
      "[CV] END ...algorithm=brute, n_neighbors=7, weights=distance; total time=   0.1s\n",
      "[CV] END ...algorithm=brute, n_neighbors=7, weights=distance; total time=   0.1s\n",
      "[CV] END ....algorithm=brute, n_neighbors=9, weights=uniform; total time=   0.1s\n",
      "[CV] END ....algorithm=brute, n_neighbors=9, weights=uniform; total time=   0.1s\n",
      "[CV] END ....algorithm=brute, n_neighbors=9, weights=uniform; total time=   0.1s\n",
      "[CV] END ...algorithm=brute, n_neighbors=9, weights=distance; total time=   0.1s\n",
      "[CV] END ...algorithm=brute, n_neighbors=9, weights=distance; total time=   0.1s\n",
      "[CV] END ...algorithm=brute, n_neighbors=9, weights=distance; total time=   0.1s\n",
      "---------------- Best Params for XGBoost -------------------\n",
      "{'min_child_weight': 1, 'max_depth': 9}\n",
      "---------------- Best Params for RF -------------------\n",
      "{'n_estimators': 100, 'max_features': 'log2', 'max_depth': None}\n",
      "---------------- Best Params for KNN -------------------\n",
      "{'weights': 'distance', 'n_neighbors': 4, 'algorithm': 'auto'}\n"
     ]
    }
   ],
   "source": [
    "# Function for Hyperparameter tuning and report generation\n",
    "\n",
    "from sklearn.model_selection import RandomizedSearchCV\n",
    "\n",
    "model_param = {}\n",
    "\n",
    "for name, model, params in randomcv_models:\n",
    "    random_cv = RandomizedSearchCV(estimator = model, \n",
    "                                  param_distributions = params,\n",
    "                                  n_iter = 100,\n",
    "                                  cv = 3, \n",
    "                                  verbose = 2,\n",
    "                                  n_jobs = 1) \n",
    "    random_cv.fit(X_res, Y_res)\n",
    "    model_param[name] = random_cv.best_params_\n",
    "\n",
    "for model_name in model_param:\n",
    "    print(f\"---------------- Best Params for {model_name} -------------------\")\n",
    "    print(model_param[model_name])"
   ]
  },
  {
   "cell_type": "code",
   "execution_count": 40,
   "id": "8944b122",
   "metadata": {},
   "outputs": [
    {
     "data": {
      "text/plain": [
       "{'XGBoost': {'min_child_weight': 1, 'max_depth': 9},\n",
       " 'RF': {'n_estimators': 100, 'max_features': 'log2', 'max_depth': None},\n",
       " 'KNN': {'weights': 'distance', 'n_neighbors': 4, 'algorithm': 'auto'}}"
      ]
     },
     "execution_count": 40,
     "metadata": {},
     "output_type": "execute_result"
    }
   ],
   "source": [
    "model_param"
   ]
  },
  {
   "cell_type": "code",
   "execution_count": 41,
   "id": "2bda98ba",
   "metadata": {},
   "outputs": [
    {
     "name": "stdout",
     "output_type": "stream",
     "text": [
      "Random Forest Classifier\n",
      "Model performance for Training set\n",
      "- Accuracy: 1.0000\n",
      "- F1 score: 1.0000\n",
      "- Precision: 1.0000\n",
      "- Recall: 1.0000\n",
      "- Roc Auc Score: 1.0000\n",
      "----------------------------------\n",
      "Model performance for Test set\n",
      "- Accuracy: 0.9481\n",
      "- F1 score: 0.9435\n",
      "- Precision: 0.9469\n",
      "- Recall: 0.9402\n",
      "- Roc Auc Score: 0.9475\n",
      "===================================\n",
      "\n",
      "\n",
      "KNeighborsClassifier\n",
      "Model performance for Training set\n",
      "- Accuracy: 1.0000\n",
      "- F1 score: 1.0000\n",
      "- Precision: 1.0000\n",
      "- Recall: 1.0000\n",
      "- Roc Auc Score: 1.0000\n",
      "----------------------------------\n",
      "Model performance for Test set\n",
      "- Accuracy: 0.9645\n",
      "- F1 score: 0.9611\n",
      "- Precision: 0.9727\n",
      "- Recall: 0.9498\n",
      "- Roc Auc Score: 0.9634\n",
      "===================================\n",
      "\n",
      "\n",
      "XGBClassifier\n",
      "Model performance for Training set\n",
      "- Accuracy: 0.9989\n",
      "- F1 score: 0.9988\n",
      "- Precision: 0.9998\n",
      "- Recall: 0.9978\n",
      "- Roc Auc Score: 0.9988\n",
      "----------------------------------\n",
      "Model performance for Test set\n",
      "- Accuracy: 0.9425\n",
      "- F1 score: 0.9379\n",
      "- Precision: 0.9349\n",
      "- Recall: 0.9409\n",
      "- Roc Auc Score: 0.9424\n",
      "===================================\n",
      "\n",
      "\n"
     ]
    }
   ],
   "source": [
    "# Retraining the models with the best parameters\n",
    "\n",
    "from sklearn.metrics import roc_auc_score, roc_curve\n",
    "\n",
    "best_models = {\n",
    "    \"Random Forest Classifier\": RandomForestClassifier(**model_param['RF']),\n",
    "    \"KNeighborsClassifier\": KNeighborsClassifier(**model_param['KNN']),\n",
    "    \"XGBClassifier\": XGBClassifier(**model_param['XGBoost'],n_jobs = -1),\n",
    "}\n",
    "report = evaluate_models(X = X_res, Y = Y_res, models = best_models)"
   ]
  },
  {
   "cell_type": "code",
   "execution_count": 43,
   "id": "ad6c0e63",
   "metadata": {},
   "outputs": [
    {
     "data": {
      "text/html": [
       "<div>\n",
       "<style scoped>\n",
       "    .dataframe tbody tr th:only-of-type {\n",
       "        vertical-align: middle;\n",
       "    }\n",
       "\n",
       "    .dataframe tbody tr th {\n",
       "        vertical-align: top;\n",
       "    }\n",
       "\n",
       "    .dataframe thead th {\n",
       "        text-align: right;\n",
       "    }\n",
       "</style>\n",
       "<table border=\"1\" class=\"dataframe\">\n",
       "  <thead>\n",
       "    <tr style=\"text-align: right;\">\n",
       "      <th></th>\n",
       "      <th>Model Name</th>\n",
       "      <th>Accuracy</th>\n",
       "    </tr>\n",
       "  </thead>\n",
       "  <tbody>\n",
       "    <tr>\n",
       "      <th>1</th>\n",
       "      <td>KNeighborsClassifier</td>\n",
       "      <td>0.964495</td>\n",
       "    </tr>\n",
       "    <tr>\n",
       "      <th>0</th>\n",
       "      <td>Random Forest Classifier</td>\n",
       "      <td>0.948063</td>\n",
       "    </tr>\n",
       "    <tr>\n",
       "      <th>2</th>\n",
       "      <td>XGBClassifier</td>\n",
       "      <td>0.942488</td>\n",
       "    </tr>\n",
       "  </tbody>\n",
       "</table>\n",
       "</div>"
      ],
      "text/plain": [
       "                 Model Name  Accuracy\n",
       "1      KNeighborsClassifier  0.964495\n",
       "0  Random Forest Classifier  0.948063\n",
       "2             XGBClassifier  0.942488"
      ]
     },
     "execution_count": 43,
     "metadata": {},
     "output_type": "execute_result"
    }
   ],
   "source": [
    "report"
   ]
  },
  {
   "cell_type": "code",
   "execution_count": 44,
   "id": "a4a6747b",
   "metadata": {},
   "outputs": [
    {
     "name": "stdout",
     "output_type": "stream",
     "text": [
      "FINAL MODEL 'KNN'\n",
      "Accuracy Score value: 0.9645\n",
      "              precision    recall  f1-score   support\n",
      "\n",
      "           0       0.96      0.98      0.97      1835\n",
      "           1       0.97      0.95      0.96      1573\n",
      "\n",
      "    accuracy                           0.96      3408\n",
      "   macro avg       0.97      0.96      0.96      3408\n",
      "weighted avg       0.96      0.96      0.96      3408\n",
      "\n"
     ]
    }
   ],
   "source": [
    "best_model = KNeighborsClassifier(**model_param['KNN'])\n",
    "best_model = best_model.fit(X_train, Y_train)\n",
    "\n",
    "Y_pred = best_model.predict(X_test)\n",
    "score = accuracy_score(Y_test, Y_pred)\n",
    "cls_report = classification_report(Y_test, Y_pred)\n",
    "\n",
    "print(\"FINAL MODEL 'KNN'\")\n",
    "print (\"Accuracy Score value: {:.4f}\".format(score))\n",
    "print (cls_report)"
   ]
  },
  {
   "cell_type": "markdown",
   "id": "586cf8fb",
   "metadata": {},
   "source": [
    "#### **Confusion Matrix**"
   ]
  },
  {
   "cell_type": "code",
   "execution_count": 46,
   "id": "41ccc1a4",
   "metadata": {},
   "outputs": [
    {
     "data": {
      "text/plain": [
       "<sklearn.metrics._plot.confusion_matrix.ConfusionMatrixDisplay at 0x16bf459d0>"
      ]
     },
     "execution_count": 46,
     "metadata": {},
     "output_type": "execute_result"
    },
    {
     "data": {
      "image/png": "[encoded data removed]",
      "text/plain": [
       "<Figure size 640x480 with 2 Axes>"
      ]
     },
     "metadata": {},
     "output_type": "display_data"
    }
   ],
   "source": [
    "from sklearn.metrics import ConfusionMatrixDisplay\n",
    "ConfusionMatrixDisplay.from_estimator(best_model, X_test, Y_test)"
   ]
  },
  {
   "cell_type": "code",
   "execution_count": null,
   "id": "0e4bc339",
   "metadata": {},
   "outputs": [],
   "source": []
  }
 ],
 "metadata": {
  "kernelspec": {
   "display_name": "venv",
   "language": "python",
   "name": "python3"
  },
  "language_info": {
   "codemirror_mode": {
    "name": "ipython",
    "version": 3
   },
   "file_extension": ".py",
   "mimetype": "text/x-python",
   "name": "python",
   "nbconvert_exporter": "python",
   "pygments_lexer": "ipython3",
   "version": "3.12.11"
  }
 },
 "nbformat": 4,
 "nbformat_minor": 5
}

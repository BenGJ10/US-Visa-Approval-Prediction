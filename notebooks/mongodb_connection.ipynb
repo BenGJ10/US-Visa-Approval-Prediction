{
 "cells": [
  {
   "cell_type": "markdown",
   "id": "4b973edb",
   "metadata": {},
   "source": [
    "## MongoDB Connection Demo"
   ]
  },
  {
   "cell_type": "markdown",
   "id": "01335c80",
   "metadata": {},
   "source": [
    "We need to convert the **CSV file to a MongoDB collection**. The following code snippet demonstrates how to connect to a MongoDB database and insert data from a CSV file into a collection.\n",
    "\n"
   ]
  },
  {
   "cell_type": "code",
   "execution_count": 1,
   "id": "b55c83ae",
   "metadata": {},
   "outputs": [],
   "source": [
    "import pandas as pd\n",
    "import os\n",
    "import sys"
   ]
  },
  {
   "cell_type": "code",
   "execution_count": 2,
   "id": "2c6cebb9",
   "metadata": {},
   "outputs": [
    {
     "data": {
      "text/plain": [
       "True"
      ]
     },
     "execution_count": 2,
     "metadata": {},
     "output_type": "execute_result"
    }
   ],
   "source": [
    "from dotenv import load_dotenv\n",
    "load_dotenv()"
   ]
  },
  {
   "cell_type": "code",
   "execution_count": 3,
   "id": "bd887888",
   "metadata": {},
   "outputs": [
    {
     "data": {
      "text/html": [
       "<div>\n",
       "<style scoped>\n",
       "    .dataframe tbody tr th:only-of-type {\n",
       "        vertical-align: middle;\n",
       "    }\n",
       "\n",
       "    .dataframe tbody tr th {\n",
       "        vertical-align: top;\n",
       "    }\n",
       "\n",
       "    .dataframe thead th {\n",
       "        text-align: right;\n",
       "    }\n",
       "</style>\n",
       "<table border=\"1\" class=\"dataframe\">\n",
       "  <thead>\n",
       "    <tr style=\"text-align: right;\">\n",
       "      <th></th>\n",
       "      <th>case_id</th>\n",
       "      <th>continent</th>\n",
       "      <th>education_of_employee</th>\n",
       "      <th>has_job_experience</th>\n",
       "      <th>requires_job_training</th>\n",
       "      <th>no_of_employees</th>\n",
       "      <th>yr_of_estab</th>\n",
       "      <th>region_of_employment</th>\n",
       "      <th>prevailing_wage</th>\n",
       "      <th>unit_of_wage</th>\n",
       "      <th>full_time_position</th>\n",
       "      <th>case_status</th>\n",
       "    </tr>\n",
       "  </thead>\n",
       "  <tbody>\n",
       "    <tr>\n",
       "      <th>0</th>\n",
       "      <td>EZYV01</td>\n",
       "      <td>Asia</td>\n",
       "      <td>High School</td>\n",
       "      <td>N</td>\n",
       "      <td>N</td>\n",
       "      <td>14513</td>\n",
       "      <td>2007</td>\n",
       "      <td>West</td>\n",
       "      <td>592.2029</td>\n",
       "      <td>Hour</td>\n",
       "      <td>Y</td>\n",
       "      <td>Denied</td>\n",
       "    </tr>\n",
       "    <tr>\n",
       "      <th>1</th>\n",
       "      <td>EZYV02</td>\n",
       "      <td>Asia</td>\n",
       "      <td>Master's</td>\n",
       "      <td>Y</td>\n",
       "      <td>N</td>\n",
       "      <td>2412</td>\n",
       "      <td>2002</td>\n",
       "      <td>Northeast</td>\n",
       "      <td>83425.6500</td>\n",
       "      <td>Year</td>\n",
       "      <td>Y</td>\n",
       "      <td>Certified</td>\n",
       "    </tr>\n",
       "    <tr>\n",
       "      <th>2</th>\n",
       "      <td>EZYV03</td>\n",
       "      <td>Asia</td>\n",
       "      <td>Bachelor's</td>\n",
       "      <td>N</td>\n",
       "      <td>Y</td>\n",
       "      <td>44444</td>\n",
       "      <td>2008</td>\n",
       "      <td>West</td>\n",
       "      <td>122996.8600</td>\n",
       "      <td>Year</td>\n",
       "      <td>Y</td>\n",
       "      <td>Denied</td>\n",
       "    </tr>\n",
       "    <tr>\n",
       "      <th>3</th>\n",
       "      <td>EZYV04</td>\n",
       "      <td>Asia</td>\n",
       "      <td>Bachelor's</td>\n",
       "      <td>N</td>\n",
       "      <td>N</td>\n",
       "      <td>98</td>\n",
       "      <td>1897</td>\n",
       "      <td>West</td>\n",
       "      <td>83434.0300</td>\n",
       "      <td>Year</td>\n",
       "      <td>Y</td>\n",
       "      <td>Denied</td>\n",
       "    </tr>\n",
       "    <tr>\n",
       "      <th>4</th>\n",
       "      <td>EZYV05</td>\n",
       "      <td>Africa</td>\n",
       "      <td>Master's</td>\n",
       "      <td>Y</td>\n",
       "      <td>N</td>\n",
       "      <td>1082</td>\n",
       "      <td>2005</td>\n",
       "      <td>South</td>\n",
       "      <td>149907.3900</td>\n",
       "      <td>Year</td>\n",
       "      <td>Y</td>\n",
       "      <td>Certified</td>\n",
       "    </tr>\n",
       "  </tbody>\n",
       "</table>\n",
       "</div>"
      ],
      "text/plain": [
       "  case_id continent education_of_employee has_job_experience  \\\n",
       "0  EZYV01      Asia           High School                  N   \n",
       "1  EZYV02      Asia              Master's                  Y   \n",
       "2  EZYV03      Asia            Bachelor's                  N   \n",
       "3  EZYV04      Asia            Bachelor's                  N   \n",
       "4  EZYV05    Africa              Master's                  Y   \n",
       "\n",
       "  requires_job_training  no_of_employees  yr_of_estab region_of_employment  \\\n",
       "0                     N            14513         2007                 West   \n",
       "1                     N             2412         2002            Northeast   \n",
       "2                     Y            44444         2008                 West   \n",
       "3                     N               98         1897                 West   \n",
       "4                     N             1082         2005                South   \n",
       "\n",
       "   prevailing_wage unit_of_wage full_time_position case_status  \n",
       "0         592.2029         Hour                  Y      Denied  \n",
       "1       83425.6500         Year                  Y   Certified  \n",
       "2      122996.8600         Year                  Y      Denied  \n",
       "3       83434.0300         Year                  Y      Denied  \n",
       "4      149907.3900         Year                  Y   Certified  "
      ]
     },
     "execution_count": 3,
     "metadata": {},
     "output_type": "execute_result"
    }
   ],
   "source": [
    "data = pd.read_csv('dataset/Visa.csv')\n",
    "data.head()"
   ]
  },
  {
   "cell_type": "code",
   "execution_count": 4,
   "id": "937b2d37",
   "metadata": {},
   "outputs": [
    {
     "data": {
      "text/plain": [
       "Index(['case_id', 'continent', 'education_of_employee', 'has_job_experience',\n",
       "       'requires_job_training', 'no_of_employees', 'yr_of_estab',\n",
       "       'region_of_employment', 'prevailing_wage', 'unit_of_wage',\n",
       "       'full_time_position', 'case_status'],\n",
       "      dtype='object')"
      ]
     },
     "execution_count": 4,
     "metadata": {},
     "output_type": "execute_result"
    }
   ],
   "source": [
    "data.columns"
   ]
  },
  {
   "cell_type": "code",
   "execution_count": 5,
   "id": "1055b1c9",
   "metadata": {},
   "outputs": [
    {
     "data": {
      "text/plain": [
       "(25480, 12)"
      ]
     },
     "execution_count": 5,
     "metadata": {},
     "output_type": "execute_result"
    }
   ],
   "source": [
    "data.shape"
   ]
  },
  {
   "cell_type": "code",
   "execution_count": 6,
   "id": "bc4c4f8c",
   "metadata": {},
   "outputs": [],
   "source": [
    "data = data.to_dict(orient = \"records\") # orient = \"records\" converts the DataFrame to a list of dictionaries"
   ]
  },
  {
   "cell_type": "code",
   "execution_count": 7,
   "id": "e3a098b5",
   "metadata": {},
   "outputs": [
    {
     "data": {
      "text/plain": [
       "[{'case_id': 'EZYV01',\n",
       "  'continent': 'Asia',\n",
       "  'education_of_employee': 'High School',\n",
       "  'has_job_experience': 'N',\n",
       "  'requires_job_training': 'N',\n",
       "  'no_of_employees': 14513,\n",
       "  'yr_of_estab': 2007,\n",
       "  'region_of_employment': 'West',\n",
       "  'prevailing_wage': 592.2029,\n",
       "  'unit_of_wage': 'Hour',\n",
       "  'full_time_position': 'Y',\n",
       "  'case_status': 'Denied'},\n",
       " {'case_id': 'EZYV02',\n",
       "  'continent': 'Asia',\n",
       "  'education_of_employee': \"Master's\",\n",
       "  'has_job_experience': 'Y',\n",
       "  'requires_job_training': 'N',\n",
       "  'no_of_employees': 2412,\n",
       "  'yr_of_estab': 2002,\n",
       "  'region_of_employment': 'Northeast',\n",
       "  'prevailing_wage': 83425.65,\n",
       "  'unit_of_wage': 'Year',\n",
       "  'full_time_position': 'Y',\n",
       "  'case_status': 'Certified'},\n",
       " {'case_id': 'EZYV03',\n",
       "  'continent': 'Asia',\n",
       "  'education_of_employee': \"Bachelor's\",\n",
       "  'has_job_experience': 'N',\n",
       "  'requires_job_training': 'Y',\n",
       "  'no_of_employees': 44444,\n",
       "  'yr_of_estab': 2008,\n",
       "  'region_of_employment': 'West',\n",
       "  'prevailing_wage': 122996.86,\n",
       "  'unit_of_wage': 'Year',\n",
       "  'full_time_position': 'Y',\n",
       "  'case_status': 'Denied'}]"
      ]
     },
     "execution_count": 7,
     "metadata": {},
     "output_type": "execute_result"
    }
   ],
   "source": [
    "# Displaying first 3 records\n",
    "\n",
    "data[:3]"
   ]
  },
  {
   "cell_type": "code",
   "execution_count": 8,
   "id": "74814e85",
   "metadata": {},
   "outputs": [
    {
     "data": {
      "text/plain": [
       "25480"
      ]
     },
     "execution_count": 8,
     "metadata": {},
     "output_type": "execute_result"
    }
   ],
   "source": [
    "len(data)"
   ]
  },
  {
   "cell_type": "markdown",
   "id": "2460a29d",
   "metadata": {},
   "source": [
    "### Establishing connection to MongoDB"
   ]
  },
  {
   "cell_type": "markdown",
   "id": "49108ad5",
   "metadata": {},
   "source": [
    "Inside a cluster, we need to create a database and inside it we should create a collection."
   ]
  },
  {
   "cell_type": "code",
   "execution_count": 11,
   "id": "3de7317b",
   "metadata": {},
   "outputs": [],
   "source": [
    "DB_NAME = \"BenGJ\"\n",
    "COLLECTION_NAME = \"UsVisaData\"\n",
    "COLLECTION_URL = os.getenv(\"MONGO_DB_URL\")"
   ]
  },
  {
   "cell_type": "code",
   "execution_count": 12,
   "id": "48ca59c7",
   "metadata": {},
   "outputs": [],
   "source": [
    "import pymongo\n",
    "\n",
    "client = pymongo.MongoClient(COLLECTION_URL)\n",
    "database = client[DB_NAME]\n",
    "collection = database[COLLECTION_NAME]"
   ]
  },
  {
   "cell_type": "code",
   "execution_count": 13,
   "id": "516b3e11",
   "metadata": {},
   "outputs": [
    {
     "name": "stdout",
     "output_type": "stream",
     "text": [
      "Pinged your deployment. You successfully connected to MongoDB!\n"
     ]
    }
   ],
   "source": [
    "# Send a ping to confirm a successful connection\n",
    "try:\n",
    "    client.admin.command('ping')\n",
    "    print(\"Pinged your deployment. You successfully connected to MongoDB!\")\n",
    "except Exception as e:\n",
    "    print(e)"
   ]
  },
  {
   "cell_type": "code",
   "execution_count": 15,
   "id": "14c3086d",
   "metadata": {},
   "outputs": [],
   "source": [
    "record = collection.insert_many(data)"
   ]
  },
  {
   "cell_type": "code",
   "execution_count": 17,
   "id": "597aadb8",
   "metadata": {},
   "outputs": [
    {
     "name": "stdout",
     "output_type": "stream",
     "text": [
      "{'_id': ObjectId('689b1304a1b8070308694f22'), 'case_id': 'EZYV01', 'continent': 'Asia', 'education_of_employee': 'High School', 'has_job_experience': 'N', 'requires_job_training': 'N', 'no_of_employees': 14513, 'yr_of_estab': 2007, 'region_of_employment': 'West', 'prevailing_wage': 592.2029, 'unit_of_wage': 'Hour', 'full_time_position': 'Y', 'case_status': 'Denied'}\n",
      "{'_id': ObjectId('689b1304a1b8070308694f23'), 'case_id': 'EZYV02', 'continent': 'Asia', 'education_of_employee': \"Master's\", 'has_job_experience': 'Y', 'requires_job_training': 'N', 'no_of_employees': 2412, 'yr_of_estab': 2002, 'region_of_employment': 'Northeast', 'prevailing_wage': 83425.65, 'unit_of_wage': 'Year', 'full_time_position': 'Y', 'case_status': 'Certified'}\n",
      "{'_id': ObjectId('689b1304a1b8070308694f24'), 'case_id': 'EZYV03', 'continent': 'Asia', 'education_of_employee': \"Bachelor's\", 'has_job_experience': 'N', 'requires_job_training': 'Y', 'no_of_employees': 44444, 'yr_of_estab': 2008, 'region_of_employment': 'West', 'prevailing_wage': 122996.86, 'unit_of_wage': 'Year', 'full_time_position': 'Y', 'case_status': 'Denied'}\n",
      "{'_id': ObjectId('689b1304a1b8070308694f25'), 'case_id': 'EZYV04', 'continent': 'Asia', 'education_of_employee': \"Bachelor's\", 'has_job_experience': 'N', 'requires_job_training': 'N', 'no_of_employees': 98, 'yr_of_estab': 1897, 'region_of_employment': 'West', 'prevailing_wage': 83434.03, 'unit_of_wage': 'Year', 'full_time_position': 'Y', 'case_status': 'Denied'}\n",
      "{'_id': ObjectId('689b1304a1b8070308694f26'), 'case_id': 'EZYV05', 'continent': 'Africa', 'education_of_employee': \"Master's\", 'has_job_experience': 'Y', 'requires_job_training': 'N', 'no_of_employees': 1082, 'yr_of_estab': 2005, 'region_of_employment': 'South', 'prevailing_wage': 149907.39, 'unit_of_wage': 'Year', 'full_time_position': 'Y', 'case_status': 'Certified'}\n"
     ]
    }
   ],
   "source": [
    "# Retrieving first 5 records\n",
    "\n",
    "records = collection.find().limit(5)\n",
    "for record in records:\n",
    "    print(record)"
   ]
  },
  {
   "cell_type": "markdown",
   "id": "5d19cdb8",
   "metadata": {},
   "source": [
    "### Converting to Dataframe "
   ]
  },
  {
   "cell_type": "code",
   "execution_count": 18,
   "id": "9e451dc2",
   "metadata": {},
   "outputs": [
    {
     "data": {
      "text/html": [
       "<div>\n",
       "<style scoped>\n",
       "    .dataframe tbody tr th:only-of-type {\n",
       "        vertical-align: middle;\n",
       "    }\n",
       "\n",
       "    .dataframe tbody tr th {\n",
       "        vertical-align: top;\n",
       "    }\n",
       "\n",
       "    .dataframe thead th {\n",
       "        text-align: right;\n",
       "    }\n",
       "</style>\n",
       "<table border=\"1\" class=\"dataframe\">\n",
       "  <thead>\n",
       "    <tr style=\"text-align: right;\">\n",
       "      <th></th>\n",
       "      <th>_id</th>\n",
       "      <th>case_id</th>\n",
       "      <th>continent</th>\n",
       "      <th>education_of_employee</th>\n",
       "      <th>has_job_experience</th>\n",
       "      <th>requires_job_training</th>\n",
       "      <th>no_of_employees</th>\n",
       "      <th>yr_of_estab</th>\n",
       "      <th>region_of_employment</th>\n",
       "      <th>prevailing_wage</th>\n",
       "      <th>unit_of_wage</th>\n",
       "      <th>full_time_position</th>\n",
       "      <th>case_status</th>\n",
       "    </tr>\n",
       "  </thead>\n",
       "  <tbody>\n",
       "    <tr>\n",
       "      <th>0</th>\n",
       "      <td>689b1304a1b8070308694f22</td>\n",
       "      <td>EZYV01</td>\n",
       "      <td>Asia</td>\n",
       "      <td>High School</td>\n",
       "      <td>N</td>\n",
       "      <td>N</td>\n",
       "      <td>14513</td>\n",
       "      <td>2007</td>\n",
       "      <td>West</td>\n",
       "      <td>592.2029</td>\n",
       "      <td>Hour</td>\n",
       "      <td>Y</td>\n",
       "      <td>Denied</td>\n",
       "    </tr>\n",
       "    <tr>\n",
       "      <th>1</th>\n",
       "      <td>689b1304a1b8070308694f23</td>\n",
       "      <td>EZYV02</td>\n",
       "      <td>Asia</td>\n",
       "      <td>Master's</td>\n",
       "      <td>Y</td>\n",
       "      <td>N</td>\n",
       "      <td>2412</td>\n",
       "      <td>2002</td>\n",
       "      <td>Northeast</td>\n",
       "      <td>83425.6500</td>\n",
       "      <td>Year</td>\n",
       "      <td>Y</td>\n",
       "      <td>Certified</td>\n",
       "    </tr>\n",
       "    <tr>\n",
       "      <th>2</th>\n",
       "      <td>689b1304a1b8070308694f24</td>\n",
       "      <td>EZYV03</td>\n",
       "      <td>Asia</td>\n",
       "      <td>Bachelor's</td>\n",
       "      <td>N</td>\n",
       "      <td>Y</td>\n",
       "      <td>44444</td>\n",
       "      <td>2008</td>\n",
       "      <td>West</td>\n",
       "      <td>122996.8600</td>\n",
       "      <td>Year</td>\n",
       "      <td>Y</td>\n",
       "      <td>Denied</td>\n",
       "    </tr>\n",
       "    <tr>\n",
       "      <th>3</th>\n",
       "      <td>689b1304a1b8070308694f25</td>\n",
       "      <td>EZYV04</td>\n",
       "      <td>Asia</td>\n",
       "      <td>Bachelor's</td>\n",
       "      <td>N</td>\n",
       "      <td>N</td>\n",
       "      <td>98</td>\n",
       "      <td>1897</td>\n",
       "      <td>West</td>\n",
       "      <td>83434.0300</td>\n",
       "      <td>Year</td>\n",
       "      <td>Y</td>\n",
       "      <td>Denied</td>\n",
       "    </tr>\n",
       "    <tr>\n",
       "      <th>4</th>\n",
       "      <td>689b1304a1b8070308694f26</td>\n",
       "      <td>EZYV05</td>\n",
       "      <td>Africa</td>\n",
       "      <td>Master's</td>\n",
       "      <td>Y</td>\n",
       "      <td>N</td>\n",
       "      <td>1082</td>\n",
       "      <td>2005</td>\n",
       "      <td>South</td>\n",
       "      <td>149907.3900</td>\n",
       "      <td>Year</td>\n",
       "      <td>Y</td>\n",
       "      <td>Certified</td>\n",
       "    </tr>\n",
       "  </tbody>\n",
       "</table>\n",
       "</div>"
      ],
      "text/plain": [
       "                        _id case_id continent education_of_employee  \\\n",
       "0  689b1304a1b8070308694f22  EZYV01      Asia           High School   \n",
       "1  689b1304a1b8070308694f23  EZYV02      Asia              Master's   \n",
       "2  689b1304a1b8070308694f24  EZYV03      Asia            Bachelor's   \n",
       "3  689b1304a1b8070308694f25  EZYV04      Asia            Bachelor's   \n",
       "4  689b1304a1b8070308694f26  EZYV05    Africa              Master's   \n",
       "\n",
       "  has_job_experience requires_job_training  no_of_employees  yr_of_estab  \\\n",
       "0                  N                     N            14513         2007   \n",
       "1                  Y                     N             2412         2002   \n",
       "2                  N                     Y            44444         2008   \n",
       "3                  N                     N               98         1897   \n",
       "4                  Y                     N             1082         2005   \n",
       "\n",
       "  region_of_employment  prevailing_wage unit_of_wage full_time_position  \\\n",
       "0                 West         592.2029         Hour                  Y   \n",
       "1            Northeast       83425.6500         Year                  Y   \n",
       "2                 West      122996.8600         Year                  Y   \n",
       "3                 West       83434.0300         Year                  Y   \n",
       "4                South      149907.3900         Year                  Y   \n",
       "\n",
       "  case_status  \n",
       "0      Denied  \n",
       "1   Certified  \n",
       "2      Denied  \n",
       "3      Denied  \n",
       "4   Certified  "
      ]
     },
     "execution_count": 18,
     "metadata": {},
     "output_type": "execute_result"
    }
   ],
   "source": [
    "df = pd.DataFrame(list(collection.find()))\n",
    "df.head()"
   ]
  },
  {
   "cell_type": "code",
   "execution_count": null,
   "id": "1b4efa01",
   "metadata": {},
   "outputs": [],
   "source": []
  }
 ],
 "metadata": {
  "kernelspec": {
   "display_name": "venv",
   "language": "python",
   "name": "python3"
  },
  "language_info": {
   "codemirror_mode": {
    "name": "ipython",
    "version": 3
   },
   "file_extension": ".py",
   "mimetype": "text/x-python",
   "name": "python",
   "nbconvert_exporter": "python",
   "pygments_lexer": "ipython3",
   "version": "3.12.11"
  }
 },
 "nbformat": 4,
 "nbformat_minor": 5
}
